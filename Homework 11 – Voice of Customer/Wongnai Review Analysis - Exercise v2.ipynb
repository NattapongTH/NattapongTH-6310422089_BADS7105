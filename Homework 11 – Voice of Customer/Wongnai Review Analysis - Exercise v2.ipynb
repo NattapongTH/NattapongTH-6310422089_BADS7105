{
 "cells": [
  {
   "cell_type": "markdown",
   "metadata": {
    "id": "kaAZjbXqBKxt"
   },
   "source": [
    "## **Load libraries and data**"
   ]
  },
  {
   "cell_type": "code",
   "execution_count": 4,
   "metadata": {
    "colab": {
     "base_uri": "https://localhost:8080/"
    },
    "executionInfo": {
     "elapsed": 11410,
     "status": "ok",
     "timestamp": 1605437566064,
     "user": {
      "displayName": "Thanachart Ritbumroong",
      "photoUrl": "",
      "userId": "18414212507793256437"
     },
     "user_tz": -420
    },
    "id": "_pJtf54KNodh",
    "outputId": "4d080994-5071-4f79-b76d-177fc7257071"
   },
   "outputs": [
    {
     "name": "stderr",
     "output_type": "stream",
     "text": [
      "C:\\Users\\Nattapong TH\\anaconda3\\lib\\site-packages\\ipykernel\\ipkernel.py:287: DeprecationWarning: `should_run_async` will not call `transform_cell` automatically in the future. Please pass the result to `transformed_cell` argument and any exception that happen during thetransform in `preprocessing_exc_tuple` in IPython 7.17 and above.\n",
      "  and should_run_async(code)\n"
     ]
    },
    {
     "name": "stdout",
     "output_type": "stream",
     "text": [
      "Requirement already up-to-date: pythainlp in c:\\users\\nattapong th\\anaconda3\\lib\\site-packages (2.3.1)\n",
      "Requirement already satisfied, skipping upgrade: tinydb>=3.0 in c:\\users\\nattapong th\\anaconda3\\lib\\site-packages (from pythainlp) (4.3.0)\n",
      "Requirement already satisfied, skipping upgrade: requests>=2.22.0 in c:\\users\\nattapong th\\anaconda3\\lib\\site-packages (from pythainlp) (2.24.0)\n",
      "Requirement already satisfied, skipping upgrade: python-crfsuite>=0.9.6 in c:\\users\\nattapong th\\anaconda3\\lib\\site-packages (from pythainlp) (0.9.7)\n",
      "Requirement already satisfied, skipping upgrade: idna<3,>=2.5 in c:\\users\\nattapong th\\anaconda3\\lib\\site-packages (from requests>=2.22.0->pythainlp) (2.10)\n",
      "Requirement already satisfied, skipping upgrade: certifi>=2017.4.17 in c:\\users\\nattapong th\\anaconda3\\lib\\site-packages (from requests>=2.22.0->pythainlp) (2020.6.20)\n",
      "Requirement already satisfied, skipping upgrade: urllib3!=1.25.0,!=1.25.1,<1.26,>=1.21.1 in c:\\users\\nattapong th\\anaconda3\\lib\\site-packages (from requests>=2.22.0->pythainlp) (1.25.11)\n",
      "Requirement already satisfied, skipping upgrade: chardet<4,>=3.0.2 in c:\\users\\nattapong th\\anaconda3\\lib\\site-packages (from requests>=2.22.0->pythainlp) (3.0.4)\n",
      "Requirement already satisfied: pyLDAvis in c:\\users\\nattapong th\\anaconda3\\lib\\site-packages (2.1.2)\n",
      "Requirement already satisfied: joblib>=0.8.4 in c:\\users\\nattapong th\\anaconda3\\lib\\site-packages (from pyLDAvis) (0.17.0)\n",
      "Requirement already satisfied: jinja2>=2.7.2 in c:\\users\\nattapong th\\anaconda3\\lib\\site-packages (from pyLDAvis) (2.11.2)\n",
      "Requirement already satisfied: pytest in c:\\users\\nattapong th\\anaconda3\\lib\\site-packages (from pyLDAvis) (0.0.0)\n",
      "Requirement already satisfied: numpy>=1.9.2 in c:\\users\\nattapong th\\anaconda3\\lib\\site-packages (from pyLDAvis) (1.20.3)\n",
      "Requirement already satisfied: wheel>=0.23.0 in c:\\users\\nattapong th\\anaconda3\\lib\\site-packages (from pyLDAvis) (0.35.1)\n",
      "Requirement already satisfied: funcy in c:\\users\\nattapong th\\anaconda3\\lib\\site-packages (from pyLDAvis) (1.16)\n",
      "Requirement already satisfied: scipy>=0.18.0 in c:\\users\\nattapong th\\anaconda3\\lib\\site-packages (from pyLDAvis) (1.5.2)\n",
      "Requirement already satisfied: future in c:\\users\\nattapong th\\anaconda3\\lib\\site-packages (from pyLDAvis) (0.18.2)\n",
      "Requirement already satisfied: numexpr in c:\\users\\nattapong th\\anaconda3\\lib\\site-packages (from pyLDAvis) (2.7.1)\n",
      "Requirement already satisfied: pandas>=0.17.0 in c:\\users\\nattapong th\\anaconda3\\lib\\site-packages (from pyLDAvis) (1.2.4)\n",
      "Requirement already satisfied: MarkupSafe>=0.23 in c:\\users\\nattapong th\\anaconda3\\lib\\site-packages (from jinja2>=2.7.2->pyLDAvis) (1.1.1)\n",
      "Requirement already satisfied: attrs>=17.4.0 in c:\\users\\nattapong th\\anaconda3\\lib\\site-packages (from pytest->pyLDAvis) (20.3.0)\n",
      "Requirement already satisfied: iniconfig in c:\\users\\nattapong th\\anaconda3\\lib\\site-packages (from pytest->pyLDAvis) (1.1.1)\n",
      "Requirement already satisfied: packaging in c:\\users\\nattapong th\\anaconda3\\lib\\site-packages (from pytest->pyLDAvis) (20.4)\n",
      "Requirement already satisfied: pluggy<1.0,>=0.12 in c:\\users\\nattapong th\\anaconda3\\lib\\site-packages (from pytest->pyLDAvis) (0.13.1)\n",
      "Requirement already satisfied: py>=1.8.2 in c:\\users\\nattapong th\\anaconda3\\lib\\site-packages (from pytest->pyLDAvis) (1.9.0)\n",
      "Requirement already satisfied: toml in c:\\users\\nattapong th\\anaconda3\\lib\\site-packages (from pytest->pyLDAvis) (0.10.1)\n",
      "Requirement already satisfied: atomicwrites>=1.0 in c:\\users\\nattapong th\\anaconda3\\lib\\site-packages (from pytest->pyLDAvis) (1.4.0)\n",
      "Requirement already satisfied: colorama in c:\\users\\nattapong th\\anaconda3\\lib\\site-packages (from pytest->pyLDAvis) (0.4.4)\n",
      "Requirement already satisfied: pytz>=2017.3 in c:\\users\\nattapong th\\anaconda3\\lib\\site-packages (from pandas>=0.17.0->pyLDAvis) (2020.1)\n",
      "Requirement already satisfied: python-dateutil>=2.7.3 in c:\\users\\nattapong th\\anaconda3\\lib\\site-packages (from pandas>=0.17.0->pyLDAvis) (2.8.1)\n",
      "Requirement already satisfied: pyparsing>=2.0.2 in c:\\users\\nattapong th\\anaconda3\\lib\\site-packages (from packaging->pytest->pyLDAvis) (2.4.7)\n",
      "Requirement already satisfied: six in c:\\users\\nattapong th\\anaconda3\\lib\\site-packages (from packaging->pytest->pyLDAvis) (1.15.0)\n"
     ]
    }
   ],
   "source": [
    "#!pip install --upgrade pythainlp\n",
    "#!pip install pyLDAvis"
   ]
  },
  {
   "cell_type": "code",
   "execution_count": 5,
   "metadata": {},
   "outputs": [
    {
     "name": "stderr",
     "output_type": "stream",
     "text": [
      "C:\\Users\\Nattapong TH\\anaconda3\\lib\\site-packages\\ipykernel\\ipkernel.py:287: DeprecationWarning: `should_run_async` will not call `transform_cell` automatically in the future. Please pass the result to `transformed_cell` argument and any exception that happen during thetransform in `preprocessing_exc_tuple` in IPython 7.17 and above.\n",
      "  and should_run_async(code)\n"
     ]
    },
    {
     "name": "stdout",
     "output_type": "stream",
     "text": [
      "Requirement already up-to-date: pandas-profiling in c:\\users\\nattapong th\\anaconda3\\lib\\site-packages (3.0.0)\n",
      "Requirement already satisfied, skipping upgrade: requests>=2.24.0 in c:\\users\\nattapong th\\anaconda3\\lib\\site-packages (from pandas-profiling) (2.24.0)\n",
      "Requirement already satisfied, skipping upgrade: phik>=0.11.1 in c:\\users\\nattapong th\\anaconda3\\lib\\site-packages (from pandas-profiling) (0.11.2)\n",
      "Requirement already satisfied, skipping upgrade: pydantic>=1.8.1 in c:\\users\\nattapong th\\anaconda3\\lib\\site-packages (from pandas-profiling) (1.8.2)\n",
      "Requirement already satisfied, skipping upgrade: seaborn>=0.10.1 in c:\\users\\nattapong th\\anaconda3\\lib\\site-packages (from pandas-profiling) (0.11.0)\n",
      "Requirement already satisfied, skipping upgrade: PyYAML>=5.0.0 in c:\\users\\nattapong th\\anaconda3\\lib\\site-packages (from pandas-profiling) (5.3.1)\n",
      "Requirement already satisfied, skipping upgrade: jinja2>=2.11.1 in c:\\users\\nattapong th\\anaconda3\\lib\\site-packages (from pandas-profiling) (2.11.2)\n",
      "Requirement already satisfied, skipping upgrade: scipy>=1.4.1 in c:\\users\\nattapong th\\anaconda3\\lib\\site-packages (from pandas-profiling) (1.5.2)\n",
      "Requirement already satisfied, skipping upgrade: numpy>=1.16.0 in c:\\users\\nattapong th\\anaconda3\\lib\\site-packages (from pandas-profiling) (1.20.3)\n",
      "Requirement already satisfied, skipping upgrade: missingno>=0.4.2 in c:\\users\\nattapong th\\anaconda3\\lib\\site-packages (from pandas-profiling) (0.4.2)\n",
      "Requirement already satisfied, skipping upgrade: matplotlib>=3.2.0 in c:\\users\\nattapong th\\anaconda3\\lib\\site-packages (from pandas-profiling) (3.3.2)\n",
      "Requirement already satisfied, skipping upgrade: pandas!=1.0.0,!=1.0.1,!=1.0.2,!=1.1.0,>=0.25.3 in c:\\users\\nattapong th\\anaconda3\\lib\\site-packages (from pandas-profiling) (1.2.4)\n",
      "Requirement already satisfied, skipping upgrade: visions[type_image_path]==0.7.1 in c:\\users\\nattapong th\\anaconda3\\lib\\site-packages (from pandas-profiling) (0.7.1)\n",
      "Requirement already satisfied, skipping upgrade: htmlmin>=0.1.12 in c:\\users\\nattapong th\\anaconda3\\lib\\site-packages (from pandas-profiling) (0.1.12)\n",
      "Requirement already satisfied, skipping upgrade: joblib in c:\\users\\nattapong th\\anaconda3\\lib\\site-packages (from pandas-profiling) (0.17.0)\n",
      "Requirement already satisfied, skipping upgrade: tqdm>=4.48.2 in c:\\users\\nattapong th\\anaconda3\\lib\\site-packages (from pandas-profiling) (4.50.2)\n",
      "Requirement already satisfied, skipping upgrade: tangled-up-in-unicode==0.1.0 in c:\\users\\nattapong th\\anaconda3\\lib\\site-packages (from pandas-profiling) (0.1.0)\n",
      "Requirement already satisfied, skipping upgrade: urllib3!=1.25.0,!=1.25.1,<1.26,>=1.21.1 in c:\\users\\nattapong th\\anaconda3\\lib\\site-packages (from requests>=2.24.0->pandas-profiling) (1.25.11)\n",
      "Requirement already satisfied, skipping upgrade: certifi>=2017.4.17 in c:\\users\\nattapong th\\anaconda3\\lib\\site-packages (from requests>=2.24.0->pandas-profiling) (2020.6.20)\n",
      "Requirement already satisfied, skipping upgrade: idna<3,>=2.5 in c:\\users\\nattapong th\\anaconda3\\lib\\site-packages (from requests>=2.24.0->pandas-profiling) (2.10)\n",
      "Requirement already satisfied, skipping upgrade: chardet<4,>=3.0.2 in c:\\users\\nattapong th\\anaconda3\\lib\\site-packages (from requests>=2.24.0->pandas-profiling) (3.0.4)\n",
      "Requirement already satisfied, skipping upgrade: typing-extensions>=3.7.4.3 in c:\\users\\nattapong th\\anaconda3\\lib\\site-packages (from pydantic>=1.8.1->pandas-profiling) (3.7.4.3)\n",
      "Requirement already satisfied, skipping upgrade: MarkupSafe>=0.23 in c:\\users\\nattapong th\\anaconda3\\lib\\site-packages (from jinja2>=2.11.1->pandas-profiling) (1.1.1)\n",
      "Requirement already satisfied, skipping upgrade: python-dateutil>=2.1 in c:\\users\\nattapong th\\anaconda3\\lib\\site-packages (from matplotlib>=3.2.0->pandas-profiling) (2.8.1)\n",
      "Requirement already satisfied, skipping upgrade: pyparsing!=2.0.4,!=2.1.2,!=2.1.6,>=2.0.3 in c:\\users\\nattapong th\\anaconda3\\lib\\site-packages (from matplotlib>=3.2.0->pandas-profiling) (2.4.7)\n",
      "Requirement already satisfied, skipping upgrade: kiwisolver>=1.0.1 in c:\\users\\nattapong th\\anaconda3\\lib\\site-packages (from matplotlib>=3.2.0->pandas-profiling) (1.3.0)\n",
      "Requirement already satisfied, skipping upgrade: pillow>=6.2.0 in c:\\users\\nattapong th\\anaconda3\\lib\\site-packages (from matplotlib>=3.2.0->pandas-profiling) (8.0.1)\n",
      "Requirement already satisfied, skipping upgrade: cycler>=0.10 in c:\\users\\nattapong th\\anaconda3\\lib\\site-packages (from matplotlib>=3.2.0->pandas-profiling) (0.10.0)\n",
      "Requirement already satisfied, skipping upgrade: pytz>=2017.3 in c:\\users\\nattapong th\\anaconda3\\lib\\site-packages (from pandas!=1.0.0,!=1.0.1,!=1.0.2,!=1.1.0,>=0.25.3->pandas-profiling) (2020.1)\n",
      "Requirement already satisfied, skipping upgrade: networkx>=2.4 in c:\\users\\nattapong th\\anaconda3\\lib\\site-packages (from visions[type_image_path]==0.7.1->pandas-profiling) (2.5)\n",
      "Requirement already satisfied, skipping upgrade: bottleneck in c:\\users\\nattapong th\\anaconda3\\lib\\site-packages (from visions[type_image_path]==0.7.1->pandas-profiling) (1.3.2)\n",
      "Requirement already satisfied, skipping upgrade: attrs>=19.3.0 in c:\\users\\nattapong th\\anaconda3\\lib\\site-packages (from visions[type_image_path]==0.7.1->pandas-profiling) (20.3.0)\n",
      "Requirement already satisfied, skipping upgrade: multimethod==1.4 in c:\\users\\nattapong th\\anaconda3\\lib\\site-packages (from visions[type_image_path]==0.7.1->pandas-profiling) (1.4)\n",
      "Requirement already satisfied, skipping upgrade: imagehash; extra == \"type_image_path\" in c:\\users\\nattapong th\\anaconda3\\lib\\site-packages (from visions[type_image_path]==0.7.1->pandas-profiling) (4.2.0)\n",
      "Requirement already satisfied, skipping upgrade: six>=1.5 in c:\\users\\nattapong th\\anaconda3\\lib\\site-packages (from python-dateutil>=2.1->matplotlib>=3.2.0->pandas-profiling) (1.15.0)\n",
      "Requirement already satisfied, skipping upgrade: decorator>=4.3.0 in c:\\users\\nattapong th\\anaconda3\\lib\\site-packages (from networkx>=2.4->visions[type_image_path]==0.7.1->pandas-profiling) (4.4.2)\n",
      "Requirement already satisfied, skipping upgrade: PyWavelets in c:\\users\\nattapong th\\anaconda3\\lib\\site-packages (from imagehash; extra == \"type_image_path\"->visions[type_image_path]==0.7.1->pandas-profiling) (1.1.1)\n",
      "Requirement already up-to-date: pythainlp in c:\\users\\nattapong th\\anaconda3\\lib\\site-packages (2.3.1)\n",
      "Requirement already satisfied, skipping upgrade: requests>=2.22.0 in c:\\users\\nattapong th\\anaconda3\\lib\\site-packages (from pythainlp) (2.24.0)\n",
      "Requirement already satisfied, skipping upgrade: python-crfsuite>=0.9.6 in c:\\users\\nattapong th\\anaconda3\\lib\\site-packages (from pythainlp) (0.9.7)\n",
      "Requirement already satisfied, skipping upgrade: tinydb>=3.0 in c:\\users\\nattapong th\\anaconda3\\lib\\site-packages (from pythainlp) (4.3.0)\n",
      "Requirement already satisfied, skipping upgrade: chardet<4,>=3.0.2 in c:\\users\\nattapong th\\anaconda3\\lib\\site-packages (from requests>=2.22.0->pythainlp) (3.0.4)\n",
      "Requirement already satisfied, skipping upgrade: idna<3,>=2.5 in c:\\users\\nattapong th\\anaconda3\\lib\\site-packages (from requests>=2.22.0->pythainlp) (2.10)\n",
      "Requirement already satisfied, skipping upgrade: certifi>=2017.4.17 in c:\\users\\nattapong th\\anaconda3\\lib\\site-packages (from requests>=2.22.0->pythainlp) (2020.6.20)\n",
      "Requirement already satisfied, skipping upgrade: urllib3!=1.25.0,!=1.25.1,<1.26,>=1.21.1 in c:\\users\\nattapong th\\anaconda3\\lib\\site-packages (from requests>=2.22.0->pythainlp) (1.25.11)\n",
      "Requirement already satisfied: pyLDAvis in c:\\users\\nattapong th\\anaconda3\\lib\\site-packages (2.1.2)\n",
      "Requirement already satisfied: future in c:\\users\\nattapong th\\anaconda3\\lib\\site-packages (from pyLDAvis) (0.18.2)\n",
      "Requirement already satisfied: wheel>=0.23.0 in c:\\users\\nattapong th\\anaconda3\\lib\\site-packages (from pyLDAvis) (0.35.1)\n",
      "Requirement already satisfied: funcy in c:\\users\\nattapong th\\anaconda3\\lib\\site-packages (from pyLDAvis) (1.16)\n",
      "Requirement already satisfied: pytest in c:\\users\\nattapong th\\anaconda3\\lib\\site-packages (from pyLDAvis) (0.0.0)\n",
      "Requirement already satisfied: joblib>=0.8.4 in c:\\users\\nattapong th\\anaconda3\\lib\\site-packages (from pyLDAvis) (0.17.0)\n",
      "Requirement already satisfied: jinja2>=2.7.2 in c:\\users\\nattapong th\\anaconda3\\lib\\site-packages (from pyLDAvis) (2.11.2)\n",
      "Requirement already satisfied: numpy>=1.9.2 in c:\\users\\nattapong th\\anaconda3\\lib\\site-packages (from pyLDAvis) (1.20.3)\n",
      "Requirement already satisfied: numexpr in c:\\users\\nattapong th\\anaconda3\\lib\\site-packages (from pyLDAvis) (2.7.1)\n",
      "Requirement already satisfied: pandas>=0.17.0 in c:\\users\\nattapong th\\anaconda3\\lib\\site-packages (from pyLDAvis) (1.2.4)\n",
      "Requirement already satisfied: scipy>=0.18.0 in c:\\users\\nattapong th\\anaconda3\\lib\\site-packages (from pyLDAvis) (1.5.2)\n",
      "Requirement already satisfied: attrs>=17.4.0 in c:\\users\\nattapong th\\anaconda3\\lib\\site-packages (from pytest->pyLDAvis) (20.3.0)\n",
      "Requirement already satisfied: iniconfig in c:\\users\\nattapong th\\anaconda3\\lib\\site-packages (from pytest->pyLDAvis) (1.1.1)\n",
      "Requirement already satisfied: packaging in c:\\users\\nattapong th\\anaconda3\\lib\\site-packages (from pytest->pyLDAvis) (20.4)\n",
      "Requirement already satisfied: pluggy<1.0,>=0.12 in c:\\users\\nattapong th\\anaconda3\\lib\\site-packages (from pytest->pyLDAvis) (0.13.1)\n",
      "Requirement already satisfied: py>=1.8.2 in c:\\users\\nattapong th\\anaconda3\\lib\\site-packages (from pytest->pyLDAvis) (1.9.0)\n",
      "Requirement already satisfied: toml in c:\\users\\nattapong th\\anaconda3\\lib\\site-packages (from pytest->pyLDAvis) (0.10.1)\n",
      "Requirement already satisfied: atomicwrites>=1.0 in c:\\users\\nattapong th\\anaconda3\\lib\\site-packages (from pytest->pyLDAvis) (1.4.0)\n",
      "Requirement already satisfied: colorama in c:\\users\\nattapong th\\anaconda3\\lib\\site-packages (from pytest->pyLDAvis) (0.4.4)\n",
      "Requirement already satisfied: MarkupSafe>=0.23 in c:\\users\\nattapong th\\anaconda3\\lib\\site-packages (from jinja2>=2.7.2->pyLDAvis) (1.1.1)\n",
      "Requirement already satisfied: pytz>=2017.3 in c:\\users\\nattapong th\\anaconda3\\lib\\site-packages (from pandas>=0.17.0->pyLDAvis) (2020.1)\n",
      "Requirement already satisfied: python-dateutil>=2.7.3 in c:\\users\\nattapong th\\anaconda3\\lib\\site-packages (from pandas>=0.17.0->pyLDAvis) (2.8.1)\n",
      "Requirement already satisfied: pyparsing>=2.0.2 in c:\\users\\nattapong th\\anaconda3\\lib\\site-packages (from packaging->pytest->pyLDAvis) (2.4.7)\n",
      "Requirement already satisfied: six in c:\\users\\nattapong th\\anaconda3\\lib\\site-packages (from packaging->pytest->pyLDAvis) (1.15.0)\n"
     ]
    },
    {
     "name": "stdout",
     "output_type": "stream",
     "text": [
      "Requirement already satisfied: scipy in c:\\users\\nattapong th\\anaconda3\\lib\\site-packages (1.5.2)\n",
      "Requirement already satisfied: numpy>=1.14.5 in c:\\users\\nattapong th\\anaconda3\\lib\\site-packages (from scipy) (1.20.3)\n",
      "Requirement already satisfied: pyLDAvis==2.1.2 in c:\\users\\nattapong th\\anaconda3\\lib\\site-packages (2.1.2)\n",
      "Requirement already satisfied: funcy in c:\\users\\nattapong th\\anaconda3\\lib\\site-packages (from pyLDAvis==2.1.2) (1.16)\n",
      "Requirement already satisfied: scipy>=0.18.0 in c:\\users\\nattapong th\\anaconda3\\lib\\site-packages (from pyLDAvis==2.1.2) (1.5.2)\n",
      "Requirement already satisfied: numpy>=1.9.2 in c:\\users\\nattapong th\\anaconda3\\lib\\site-packages (from pyLDAvis==2.1.2) (1.20.3)\n",
      "Requirement already satisfied: pandas>=0.17.0 in c:\\users\\nattapong th\\anaconda3\\lib\\site-packages (from pyLDAvis==2.1.2) (1.2.4)\n",
      "Requirement already satisfied: future in c:\\users\\nattapong th\\anaconda3\\lib\\site-packages (from pyLDAvis==2.1.2) (0.18.2)\n",
      "Requirement already satisfied: jinja2>=2.7.2 in c:\\users\\nattapong th\\anaconda3\\lib\\site-packages (from pyLDAvis==2.1.2) (2.11.2)\n",
      "Requirement already satisfied: wheel>=0.23.0 in c:\\users\\nattapong th\\anaconda3\\lib\\site-packages (from pyLDAvis==2.1.2) (0.35.1)\n",
      "Requirement already satisfied: joblib>=0.8.4 in c:\\users\\nattapong th\\anaconda3\\lib\\site-packages (from pyLDAvis==2.1.2) (0.17.0)\n",
      "Requirement already satisfied: pytest in c:\\users\\nattapong th\\anaconda3\\lib\\site-packages (from pyLDAvis==2.1.2) (0.0.0)\n",
      "Requirement already satisfied: numexpr in c:\\users\\nattapong th\\anaconda3\\lib\\site-packages (from pyLDAvis==2.1.2) (2.7.1)\n",
      "Requirement already satisfied: pytz>=2017.3 in c:\\users\\nattapong th\\anaconda3\\lib\\site-packages (from pandas>=0.17.0->pyLDAvis==2.1.2) (2020.1)\n",
      "Requirement already satisfied: python-dateutil>=2.7.3 in c:\\users\\nattapong th\\anaconda3\\lib\\site-packages (from pandas>=0.17.0->pyLDAvis==2.1.2) (2.8.1)\n",
      "Requirement already satisfied: MarkupSafe>=0.23 in c:\\users\\nattapong th\\anaconda3\\lib\\site-packages (from jinja2>=2.7.2->pyLDAvis==2.1.2) (1.1.1)\n",
      "Requirement already satisfied: attrs>=17.4.0 in c:\\users\\nattapong th\\anaconda3\\lib\\site-packages (from pytest->pyLDAvis==2.1.2) (20.3.0)\n",
      "Requirement already satisfied: iniconfig in c:\\users\\nattapong th\\anaconda3\\lib\\site-packages (from pytest->pyLDAvis==2.1.2) (1.1.1)\n",
      "Requirement already satisfied: packaging in c:\\users\\nattapong th\\anaconda3\\lib\\site-packages (from pytest->pyLDAvis==2.1.2) (20.4)\n",
      "Requirement already satisfied: pluggy<1.0,>=0.12 in c:\\users\\nattapong th\\anaconda3\\lib\\site-packages (from pytest->pyLDAvis==2.1.2) (0.13.1)\n",
      "Requirement already satisfied: py>=1.8.2 in c:\\users\\nattapong th\\anaconda3\\lib\\site-packages (from pytest->pyLDAvis==2.1.2) (1.9.0)\n",
      "Requirement already satisfied: toml in c:\\users\\nattapong th\\anaconda3\\lib\\site-packages (from pytest->pyLDAvis==2.1.2) (0.10.1)\n",
      "Requirement already satisfied: atomicwrites>=1.0 in c:\\users\\nattapong th\\anaconda3\\lib\\site-packages (from pytest->pyLDAvis==2.1.2) (1.4.0)\n",
      "Requirement already satisfied: colorama in c:\\users\\nattapong th\\anaconda3\\lib\\site-packages (from pytest->pyLDAvis==2.1.2) (0.4.4)\n",
      "Requirement already satisfied: six>=1.5 in c:\\users\\nattapong th\\anaconda3\\lib\\site-packages (from python-dateutil>=2.7.3->pandas>=0.17.0->pyLDAvis==2.1.2) (1.15.0)\n",
      "Requirement already satisfied: pyparsing>=2.0.2 in c:\\users\\nattapong th\\anaconda3\\lib\\site-packages (from packaging->pytest->pyLDAvis==2.1.2) (2.4.7)\n"
     ]
    }
   ],
   "source": [
    "#!pip install -U pandas-profiling\n",
    "#!pip install --upgrade pythainlp\n",
    "#!pip install pyLDAvis\n",
    "#!pip install scipy\n",
    "#!pip install pyLDAvis==2.1.2"
   ]
  },
  {
   "cell_type": "code",
   "execution_count": 2,
   "metadata": {
    "executionInfo": {
     "elapsed": 15260,
     "status": "ok",
     "timestamp": 1605437569917,
     "user": {
      "displayName": "Thanachart Ritbumroong",
      "photoUrl": "",
      "userId": "18414212507793256437"
     },
     "user_tz": -420
    },
    "id": "Tv1WNGA3BKiZ"
   },
   "outputs": [
    {
     "name": "stderr",
     "output_type": "stream",
     "text": [
      "C:\\Users\\Nattapong TH\\anaconda3\\lib\\site-packages\\ipykernel\\ipkernel.py:287: DeprecationWarning: `should_run_async` will not call `transform_cell` automatically in the future. Please pass the result to `transformed_cell` argument and any exception that happen during thetransform in `preprocessing_exc_tuple` in IPython 7.17 and above.\n",
      "  and should_run_async(code)\n",
      "C:\\Users\\Nattapong TH\\anaconda3\\lib\\site-packages\\scipy\\sparse\\sparsetools.py:21: DeprecationWarning: `scipy.sparse.sparsetools` is deprecated!\n",
      "scipy.sparse.sparsetools is a private module for scipy.sparse, and should not be used.\n",
      "  _deprecated()\n",
      "C:\\Users\\Nattapong TH\\anaconda3\\lib\\site-packages\\gensim\\similarities\\__init__.py:15: UserWarning: The gensim.similarities.levenshtein submodule is disabled, because the optional Levenshtein package <https://pypi.org/project/python-Levenshtein/> is unavailable. Install Levenhstein (e.g. `pip install python-Levenshtein`) to suppress this warning.\n",
      "  warnings.warn(msg)\n"
     ]
    }
   ],
   "source": [
    "import pandas as pd\n",
    "import numpy as np\n",
    "import pythainlp\n",
    "\n",
    "import pyLDAvis\n",
    "#import pyLDAvis.gensim_models as gensimvis\n",
    "#pyLDAvis.enable_notebook()\n",
    "#import warnings\n",
    "#warnings.filterwarnings(\"ignore\", category=DeprecationWarning)\n",
    "\n",
    "import gensim\n",
    "import pyLDAvis.gensim\n",
    "pyLDAvis.enable_notebook()\n",
    "import warnings\n",
    "warnings.filterwarnings(\"ignore\", category=DeprecationWarning) "
   ]
  },
  {
   "cell_type": "code",
   "execution_count": 3,
   "metadata": {
    "executionInfo": {
     "elapsed": 15258,
     "status": "ok",
     "timestamp": 1605437569918,
     "user": {
      "displayName": "Thanachart Ritbumroong",
      "photoUrl": "",
      "userId": "18414212507793256437"
     },
     "user_tz": -420
    },
    "id": "oCxTl04hBmy5"
   },
   "outputs": [],
   "source": [
    "df = pd.read_csv('CustomerReviews.csv')"
   ]
  },
  {
   "cell_type": "code",
   "execution_count": 4,
   "metadata": {
    "colab": {
     "base_uri": "https://localhost:8080/",
     "height": 296
    },
    "executionInfo": {
     "elapsed": 976,
     "status": "ok",
     "timestamp": 1605438650354,
     "user": {
      "displayName": "Thanachart Ritbumroong",
      "photoUrl": "",
      "userId": "18414212507793256437"
     },
     "user_tz": -420
    },
    "id": "7sPfQ6YkNH8c",
    "outputId": "5e18692b-c43c-45af-984c-eb5264da514d"
   },
   "outputs": [
    {
     "data": {
      "text/html": [
       "<div>\n",
       "<style scoped>\n",
       "    .dataframe tbody tr th:only-of-type {\n",
       "        vertical-align: middle;\n",
       "    }\n",
       "\n",
       "    .dataframe tbody tr th {\n",
       "        vertical-align: top;\n",
       "    }\n",
       "\n",
       "    .dataframe thead th {\n",
       "        text-align: right;\n",
       "    }\n",
       "</style>\n",
       "<table border=\"1\" class=\"dataframe\">\n",
       "  <thead>\n",
       "    <tr style=\"text-align: right;\">\n",
       "      <th></th>\n",
       "      <th>Review ID</th>\n",
       "      <th>Restaurant_ID</th>\n",
       "      <th>Restaurant</th>\n",
       "      <th>User</th>\n",
       "      <th>Headline</th>\n",
       "      <th>Review</th>\n",
       "      <th>Rating</th>\n",
       "    </tr>\n",
       "  </thead>\n",
       "  <tbody>\n",
       "    <tr>\n",
       "      <th>16</th>\n",
       "      <td>17</td>\n",
       "      <td>436045MJ-ข้าน้อยขอชาบู</td>\n",
       "      <td>ข้าน้อยขอชาบู</td>\n",
       "      <td>ployynp</td>\n",
       "      <td>บุฟเฟ่ต์ชาบูและพิซซ่าไม่อั้นในราคา 199 บาท เน้...</td>\n",
       "      <td>หลังจากที่เคยลองสาขายูเนี่ยนมอลล์ไป รอบนี้มาที...</td>\n",
       "      <td>4.0</td>\n",
       "    </tr>\n",
       "    <tr>\n",
       "      <th>17</th>\n",
       "      <td>18</td>\n",
       "      <td>436045MJ-ข้าน้อยขอชาบู</td>\n",
       "      <td>ข้าน้อยขอชาบู</td>\n",
       "      <td>27a91236fe5e4559a4f097c97a480781</td>\n",
       "      <td>ร้านบุฟเฟ่ต์ ราคามิตรภาพ อยู่ชั้น4 ติดโรงหนัง ...</td>\n",
       "      <td>ร้านบุฟเฟ่ต์ที่มีโปรโมชั่นหัวละ199บาท ไม่รวมน้...</td>\n",
       "      <td>4.0</td>\n",
       "    </tr>\n",
       "    <tr>\n",
       "      <th>18</th>\n",
       "      <td>19</td>\n",
       "      <td>436045MJ-ข้าน้อยขอชาบู</td>\n",
       "      <td>ข้าน้อยขอชาบู</td>\n",
       "      <td>0b81d251e4db486f9bcdba73b374ed99</td>\n",
       "      <td>ของหลากหลาย ปนๆ งงๆ นิดหน่อย</td>\n",
       "      <td>เคยรู้จักร้านนี้จากที่ union mall ไม่เคยได้ลอง...</td>\n",
       "      <td>3.0</td>\n",
       "    </tr>\n",
       "    <tr>\n",
       "      <th>19</th>\n",
       "      <td>20</td>\n",
       "      <td>436045MJ-ข้าน้อยขอชาบู</td>\n",
       "      <td>ข้าน้อยขอชาบู</td>\n",
       "      <td>40e0e087f3914fd49a8933b5a29936ca</td>\n",
       "      <td>อร่อยมากค่ะ คุ้มค่าสมราคา บุฟเฟ่หมูผักต่างๆ รว...</td>\n",
       "      <td>อร่อยมากค่ะ คุ้มค่าสมราคา บุฟเฟ่หมูผักต่างๆ รว...</td>\n",
       "      <td>5.0</td>\n",
       "    </tr>\n",
       "    <tr>\n",
       "      <th>20</th>\n",
       "      <td>21</td>\n",
       "      <td>436045MJ-ข้าน้อยขอชาบู</td>\n",
       "      <td>ข้าน้อยขอชาบู</td>\n",
       "      <td>41841cb99ea243a3a8d4b006e946c586</td>\n",
       "      <td>แม้จะแปลกบ้าง แต่ก็ถือว่าอยู่ในเกณฑ์ที่ดี มีอา...</td>\n",
       "      <td>ก็ตามที่เขียนเลยครับ ว่า ถ้าจะจ่ายในราคา 199 บ...</td>\n",
       "      <td>NaN</td>\n",
       "    </tr>\n",
       "  </tbody>\n",
       "</table>\n",
       "</div>"
      ],
      "text/plain": [
       "    Review ID           Restaurant_ID     Restaurant  \\\n",
       "16         17  436045MJ-ข้าน้อยขอชาบู  ข้าน้อยขอชาบู   \n",
       "17         18  436045MJ-ข้าน้อยขอชาบู  ข้าน้อยขอชาบู   \n",
       "18         19  436045MJ-ข้าน้อยขอชาบู  ข้าน้อยขอชาบู   \n",
       "19         20  436045MJ-ข้าน้อยขอชาบู  ข้าน้อยขอชาบู   \n",
       "20         21  436045MJ-ข้าน้อยขอชาบู  ข้าน้อยขอชาบู   \n",
       "\n",
       "                                User  \\\n",
       "16                           ployynp   \n",
       "17  27a91236fe5e4559a4f097c97a480781   \n",
       "18  0b81d251e4db486f9bcdba73b374ed99   \n",
       "19  40e0e087f3914fd49a8933b5a29936ca   \n",
       "20  41841cb99ea243a3a8d4b006e946c586   \n",
       "\n",
       "                                             Headline  \\\n",
       "16  บุฟเฟ่ต์ชาบูและพิซซ่าไม่อั้นในราคา 199 บาท เน้...   \n",
       "17  ร้านบุฟเฟ่ต์ ราคามิตรภาพ อยู่ชั้น4 ติดโรงหนัง ...   \n",
       "18                       ของหลากหลาย ปนๆ งงๆ นิดหน่อย   \n",
       "19  อร่อยมากค่ะ คุ้มค่าสมราคา บุฟเฟ่หมูผักต่างๆ รว...   \n",
       "20  แม้จะแปลกบ้าง แต่ก็ถือว่าอยู่ในเกณฑ์ที่ดี มีอา...   \n",
       "\n",
       "                                               Review  Rating  \n",
       "16  หลังจากที่เคยลองสาขายูเนี่ยนมอลล์ไป รอบนี้มาที...     4.0  \n",
       "17  ร้านบุฟเฟ่ต์ที่มีโปรโมชั่นหัวละ199บาท ไม่รวมน้...     4.0  \n",
       "18  เคยรู้จักร้านนี้จากที่ union mall ไม่เคยได้ลอง...     3.0  \n",
       "19  อร่อยมากค่ะ คุ้มค่าสมราคา บุฟเฟ่หมูผักต่างๆ รว...     5.0  \n",
       "20  ก็ตามที่เขียนเลยครับ ว่า ถ้าจะจ่ายในราคา 199 บ...     NaN  "
      ]
     },
     "execution_count": 4,
     "metadata": {},
     "output_type": "execute_result"
    }
   ],
   "source": [
    "df.tail()"
   ]
  },
  {
   "cell_type": "markdown",
   "metadata": {
    "id": "9NyF_CbeNX2W"
   },
   "source": [
    "## **Tokenize Words**"
   ]
  },
  {
   "cell_type": "code",
   "execution_count": 5,
   "metadata": {
    "executionInfo": {
     "elapsed": 1366,
     "status": "ok",
     "timestamp": 1605438650751,
     "user": {
      "displayName": "Thanachart Ritbumroong",
      "photoUrl": "",
      "userId": "18414212507793256437"
     },
     "user_tz": -420
    },
    "id": "Dl5ptrJNNa2y"
   },
   "outputs": [],
   "source": [
    "stopwords = list(pythainlp.corpus.thai_stopwords())\n",
    "removed_words = [' ', '  ', '\\n', 'ร้าน', '(', ')' , '           ']\n",
    "screening_words = stopwords + removed_words\n",
    "\n",
    "def tokenize_with_space(sentence):\n",
    "  merged = ''\n",
    "  words = pythainlp.word_tokenize(str(sentence), engine='newmm')\n",
    "  for word in words:\n",
    "    if word not in screening_words:\n",
    "      merged = merged + ',' + word\n",
    "  return merged[1:]"
   ]
  },
  {
   "cell_type": "code",
   "execution_count": 6,
   "metadata": {
    "executionInfo": {
     "elapsed": 1362,
     "status": "ok",
     "timestamp": 1605438650751,
     "user": {
      "displayName": "Thanachart Ritbumroong",
      "photoUrl": "",
      "userId": "18414212507793256437"
     },
     "user_tz": -420
    },
    "id": "wJ979qbENdzH"
   },
   "outputs": [],
   "source": [
    "df['Review_tokenized'] = df['Review'].apply(lambda x: tokenize_with_space(x))"
   ]
  },
  {
   "cell_type": "code",
   "execution_count": 7,
   "metadata": {
    "colab": {
     "base_uri": "https://localhost:8080/",
     "height": 296
    },
    "executionInfo": {
     "elapsed": 1360,
     "status": "ok",
     "timestamp": 1605438650752,
     "user": {
      "displayName": "Thanachart Ritbumroong",
      "photoUrl": "",
      "userId": "18414212507793256437"
     },
     "user_tz": -420
    },
    "id": "725oxXg9OcR5",
    "outputId": "525f54fd-d991-4239-9dc3-9ffbc99f8828"
   },
   "outputs": [
    {
     "data": {
      "text/html": [
       "<div>\n",
       "<style scoped>\n",
       "    .dataframe tbody tr th:only-of-type {\n",
       "        vertical-align: middle;\n",
       "    }\n",
       "\n",
       "    .dataframe tbody tr th {\n",
       "        vertical-align: top;\n",
       "    }\n",
       "\n",
       "    .dataframe thead th {\n",
       "        text-align: right;\n",
       "    }\n",
       "</style>\n",
       "<table border=\"1\" class=\"dataframe\">\n",
       "  <thead>\n",
       "    <tr style=\"text-align: right;\">\n",
       "      <th></th>\n",
       "      <th>Review ID</th>\n",
       "      <th>Restaurant_ID</th>\n",
       "      <th>Restaurant</th>\n",
       "      <th>User</th>\n",
       "      <th>Headline</th>\n",
       "      <th>Review</th>\n",
       "      <th>Rating</th>\n",
       "      <th>Review_tokenized</th>\n",
       "    </tr>\n",
       "  </thead>\n",
       "  <tbody>\n",
       "    <tr>\n",
       "      <th>16</th>\n",
       "      <td>17</td>\n",
       "      <td>436045MJ-ข้าน้อยขอชาบู</td>\n",
       "      <td>ข้าน้อยขอชาบู</td>\n",
       "      <td>ployynp</td>\n",
       "      <td>บุฟเฟ่ต์ชาบูและพิซซ่าไม่อั้นในราคา 199 บาท เน้...</td>\n",
       "      <td>หลังจากที่เคยลองสาขายูเนี่ยนมอลล์ไป รอบนี้มาที...</td>\n",
       "      <td>4.0</td>\n",
       "      <td>หลังจากที่,ลอง,สาขา,ยู,นม,อลล์,รอบ,สาขา,เดอะ,ม...</td>\n",
       "    </tr>\n",
       "    <tr>\n",
       "      <th>17</th>\n",
       "      <td>18</td>\n",
       "      <td>436045MJ-ข้าน้อยขอชาบู</td>\n",
       "      <td>ข้าน้อยขอชาบู</td>\n",
       "      <td>27a91236fe5e4559a4f097c97a480781</td>\n",
       "      <td>ร้านบุฟเฟ่ต์ ราคามิตรภาพ อยู่ชั้น4 ติดโรงหนัง ...</td>\n",
       "      <td>ร้านบุฟเฟ่ต์ที่มีโปรโมชั่นหัวละ199บาท ไม่รวมน้...</td>\n",
       "      <td>4.0</td>\n",
       "      <td>บุฟเฟ่ต์,โปรโมชั่น,หัว,199,บาท,น้ำ,VAT,ทาน,ธรร...</td>\n",
       "    </tr>\n",
       "    <tr>\n",
       "      <th>18</th>\n",
       "      <td>19</td>\n",
       "      <td>436045MJ-ข้าน้อยขอชาบู</td>\n",
       "      <td>ข้าน้อยขอชาบู</td>\n",
       "      <td>0b81d251e4db486f9bcdba73b374ed99</td>\n",
       "      <td>ของหลากหลาย ปนๆ งงๆ นิดหน่อย</td>\n",
       "      <td>เคยรู้จักร้านนี้จากที่ union mall ไม่เคยได้ลอง...</td>\n",
       "      <td>3.0</td>\n",
       "      <td>รู้จัก,union,mall,ลอง,กิน,จำได้,ขึ้นใจ,ชื่อ,😆,...</td>\n",
       "    </tr>\n",
       "    <tr>\n",
       "      <th>19</th>\n",
       "      <td>20</td>\n",
       "      <td>436045MJ-ข้าน้อยขอชาบู</td>\n",
       "      <td>ข้าน้อยขอชาบู</td>\n",
       "      <td>40e0e087f3914fd49a8933b5a29936ca</td>\n",
       "      <td>อร่อยมากค่ะ คุ้มค่าสมราคา บุฟเฟ่หมูผักต่างๆ รว...</td>\n",
       "      <td>อร่อยมากค่ะ คุ้มค่าสมราคา บุฟเฟ่หมูผักต่างๆ รว...</td>\n",
       "      <td>5.0</td>\n",
       "      <td>อร่อย,คุ้มค่า,สมราคา,บุ,ฟเฟ่,หมู,ผัก,น้ำ,จบ,25...</td>\n",
       "    </tr>\n",
       "    <tr>\n",
       "      <th>20</th>\n",
       "      <td>21</td>\n",
       "      <td>436045MJ-ข้าน้อยขอชาบู</td>\n",
       "      <td>ข้าน้อยขอชาบู</td>\n",
       "      <td>41841cb99ea243a3a8d4b006e946c586</td>\n",
       "      <td>แม้จะแปลกบ้าง แต่ก็ถือว่าอยู่ในเกณฑ์ที่ดี มีอา...</td>\n",
       "      <td>ก็ตามที่เขียนเลยครับ ว่า ถ้าจะจ่ายในราคา 199 บ...</td>\n",
       "      <td>NaN</td>\n",
       "      <td>จ่าย,ราคา,199,บาท,จ่าย,เงินสด,ราคา,น้ำ,VAT,7,%...</td>\n",
       "    </tr>\n",
       "  </tbody>\n",
       "</table>\n",
       "</div>"
      ],
      "text/plain": [
       "    Review ID           Restaurant_ID     Restaurant  \\\n",
       "16         17  436045MJ-ข้าน้อยขอชาบู  ข้าน้อยขอชาบู   \n",
       "17         18  436045MJ-ข้าน้อยขอชาบู  ข้าน้อยขอชาบู   \n",
       "18         19  436045MJ-ข้าน้อยขอชาบู  ข้าน้อยขอชาบู   \n",
       "19         20  436045MJ-ข้าน้อยขอชาบู  ข้าน้อยขอชาบู   \n",
       "20         21  436045MJ-ข้าน้อยขอชาบู  ข้าน้อยขอชาบู   \n",
       "\n",
       "                                User  \\\n",
       "16                           ployynp   \n",
       "17  27a91236fe5e4559a4f097c97a480781   \n",
       "18  0b81d251e4db486f9bcdba73b374ed99   \n",
       "19  40e0e087f3914fd49a8933b5a29936ca   \n",
       "20  41841cb99ea243a3a8d4b006e946c586   \n",
       "\n",
       "                                             Headline  \\\n",
       "16  บุฟเฟ่ต์ชาบูและพิซซ่าไม่อั้นในราคา 199 บาท เน้...   \n",
       "17  ร้านบุฟเฟ่ต์ ราคามิตรภาพ อยู่ชั้น4 ติดโรงหนัง ...   \n",
       "18                       ของหลากหลาย ปนๆ งงๆ นิดหน่อย   \n",
       "19  อร่อยมากค่ะ คุ้มค่าสมราคา บุฟเฟ่หมูผักต่างๆ รว...   \n",
       "20  แม้จะแปลกบ้าง แต่ก็ถือว่าอยู่ในเกณฑ์ที่ดี มีอา...   \n",
       "\n",
       "                                               Review  Rating  \\\n",
       "16  หลังจากที่เคยลองสาขายูเนี่ยนมอลล์ไป รอบนี้มาที...     4.0   \n",
       "17  ร้านบุฟเฟ่ต์ที่มีโปรโมชั่นหัวละ199บาท ไม่รวมน้...     4.0   \n",
       "18  เคยรู้จักร้านนี้จากที่ union mall ไม่เคยได้ลอง...     3.0   \n",
       "19  อร่อยมากค่ะ คุ้มค่าสมราคา บุฟเฟ่หมูผักต่างๆ รว...     5.0   \n",
       "20  ก็ตามที่เขียนเลยครับ ว่า ถ้าจะจ่ายในราคา 199 บ...     NaN   \n",
       "\n",
       "                                     Review_tokenized  \n",
       "16  หลังจากที่,ลอง,สาขา,ยู,นม,อลล์,รอบ,สาขา,เดอะ,ม...  \n",
       "17  บุฟเฟ่ต์,โปรโมชั่น,หัว,199,บาท,น้ำ,VAT,ทาน,ธรร...  \n",
       "18  รู้จัก,union,mall,ลอง,กิน,จำได้,ขึ้นใจ,ชื่อ,😆,...  \n",
       "19  อร่อย,คุ้มค่า,สมราคา,บุ,ฟเฟ่,หมู,ผัก,น้ำ,จบ,25...  \n",
       "20  จ่าย,ราคา,199,บาท,จ่าย,เงินสด,ราคา,น้ำ,VAT,7,%...  "
      ]
     },
     "execution_count": 7,
     "metadata": {},
     "output_type": "execute_result"
    }
   ],
   "source": [
    "df.tail()"
   ]
  },
  {
   "cell_type": "markdown",
   "metadata": {
    "id": "26a47MzoPh7p"
   },
   "source": [
    "## **Create Dictionary**"
   ]
  },
  {
   "cell_type": "code",
   "execution_count": 8,
   "metadata": {
    "executionInfo": {
     "elapsed": 1880,
     "status": "ok",
     "timestamp": 1605438651278,
     "user": {
      "displayName": "Thanachart Ritbumroong",
      "photoUrl": "",
      "userId": "18414212507793256437"
     },
     "user_tz": -420
    },
    "id": "U06F7vYCPdgX"
   },
   "outputs": [],
   "source": [
    "documents = df['Review_tokenized'].to_list()\n",
    "texts = [[text for text in doc.split(',')] for doc in documents]\n",
    "dictionary = gensim.corpora.Dictionary(texts)"
   ]
  },
  {
   "cell_type": "code",
   "execution_count": 9,
   "metadata": {
    "colab": {
     "base_uri": "https://localhost:8080/"
    },
    "executionInfo": {
     "elapsed": 1876,
     "status": "ok",
     "timestamp": 1605438651278,
     "user": {
      "displayName": "Thanachart Ritbumroong",
      "photoUrl": "",
      "userId": "18414212507793256437"
     },
     "user_tz": -420
    },
    "id": "vo1LdutKP3vR",
    "outputId": "fa979c72-0cd1-4460-ef4a-6904603a86c2"
   },
   "outputs": [
    {
     "name": "stdout",
     "output_type": "stream",
     "text": [
      "dict_keys(['1', '4', '560', 'กิน', 'ข้างนอก', 'ความต้องการ', 'คอ', 'คุณภาพ', 'คุ้ม', 'จำกัด', 'ซุป', 'ดำ', 'ดี', 'ดีมาก', 'ถาด', 'ถาม', 'น่ารัก', 'น้ำ', 'น้ำจิ้ม', 'บริการ', 'บาท', 'ประทับใจ', 'พนักงาน', 'พอกับ', 'ภาพ', 'รสชาติ', 'ราคา', 'สรุป', 'สะอาดสะอ้าน', 'สัน', 'หลากหลาย', 'อร่อย', 'อันนี้', 'อาหาร', 'เคลม', 'เซ็ท', 'เต้าเจี้ยว', 'เนื้อ', 'เป็ด', 'เผ็ด', 'แบบนี้', 'แปลก', 'แฟน', 'โดยรวม', 'โมจิ', 'ใส่ใจ', 'ไม่ต้อง', 'ไอติม', '\\u200b', '21', '30', '9', 'CTW', 'Terminal', 'กา', 'การงด', 'คิดถึง', 'ชาบู', 'ญี่ปุ่น', 'ฐาน', 'ทะยอย', 'ทำงาน', 'ที่ทาง', 'นาที', 'นึกถึง', 'พนักงานบริการ', 'พระราม', 'พรีเมียม', 'พาราไดซ์', 'มาตรา', 'มีโอ', 'รายละเอียด', 'ลูกค้า', 'สมาทาน', 'สาขา', 'สู้', 'ออร์เดอร์', 'เครื่องดื่ม', 'เค้า', 'เจอ', 'เป็นกันเอง', 'เหวี่ยง', 'แจ้ง', 'โม', 'โม่', 'โอเค', '', '++', '2', '555', '600', ':', '::', 'กก', 'กรุบ', 'กั้น', 'ของหวาน', 'คนละ', 'คาว', 'คุ', 'คุ้มค่า', 'จาน', 'จิ้ม', 'จืด', 'ฉาก', 'ชอบ', 'ชาเขียว', 'ชิ้น', 'ซอย', 'ซอส', 'ตก', 'ตะ', 'ตัก', 'ตามน้ำ', 'ต่างกัน', 'ถั่ว', 'ถ่ายรูป', 'ทาน', 'นั่ง', 'นุ่ม', 'บด', 'บาร์', 'บู', 'ผัก', 'ภาษา', 'มีชื่อ', 'ยังมี', 'รส', 'รี่', 'รู้สึก', 'ลอง', 'ลิ้น', 'ลืม', 'ววว', 'สด', 'สตอ', 'สั่ง', 'สามรส', 'ส่วนตัว', 'หนึบ', 'หม้อ', 'หวาน', 'อยากได้', 'เข้มข้น', 'เข้ากัน', 'เค็ม', 'เนื้อวัว', 'เนื้อสัตว์', 'เนื้อหมู', 'เบอ', 'เป็นผู้ใหญ่', 'เลือก', 'เสิร์ฟ', 'เหนียว', 'เห็ด', 'แดง', 'แตก', 'แตา', 'แนว', 'แย้', 'โควิด', 'โต๊ะ', 'โร', 'ใส', 'ไก่', 'ไข่', 'ไดฟูกุ', 'ไผ่', 'ไม้', 'ไหว', '3', 'ข้าว', 'จ่าย', 'ถ้วย', 'ธรรมดา', 'ส', 'ออ', 'เกินไป', 'เลี่ยน', 'โปร', 'โหด', 'ไว', 'ไอศกรีม', 'ขนม', 'คุณภาพดี', 'ตัดสินใจ', 'ต่าง ๆ', 'ที่จะ', 'ที่นั่ง', 'บัตรเครดิต', 'มมาก', 'ลูกชิ้น', 'สบายดี', 'หน้า', 'หอ', 'เดิน', 'เด็ก', 'เส้น', 'เหมือนกับ', 'แคบ', 'ได้กลิ่น', 'คามี', 'ซึ', 'นะคะ', 'บุ', 'บ๋วย', 'พอน', 'ฟเฟ่', 'รา', 'สาย', 'หยิบ', 'โซน', 'โปรโมชั่น', '+', '/', '20', '4.0', '5', 'Menu', 'Number', 'กรรมวิธี', 'กะปิ', 'ก์', 'คน', 'คะแนน', 'ชุด', 'ดังเดิม', 'บุฟเฟ่ต์', 'ประ', 'พารา', 'มอ', 'ยุค', 'ร้านอาหาร', 'ล', 'สุกี้', 'สไตล์', 'ส์', 'หมู', 'หลาก', 'หลายชนิด', 'เดอะ', 'เมนู', 'แบบฉบับ', 'แบ่ง', 'ได', 'ไทย', '–', '!!!!', '500', 'กาแฟ', 'งวด', 'ตอนที่', 'ตำ', 'ติด', 'ทั่วไป', 'น', 'บ๊วย', 'ยุ', 'ร้อน', 'ลุย', 'สุกี้ยากี้', 'อยู่แล้ว', 'ออสเตรเลีย', 'เป็นปกติ', 'เฟรนไชส์', 'เรื่อง', 'เหมาะสม', 'แนะนำ', 'โช', 'ไข่ไก่', 'ไอศครีม', '..', '399', 'กุ้ง', 'ของกิน', 'ขา', 'ชิ', 'ซูชิ', 'ซ่า', 'ตอน', 'ตอนนี้', 'นิดนึง', 'ปุระ', 'ปูอัด', 'ม', 'ละลานตา', 'สายพาน', 'หิว', 'ฮ่า', 'าน', 'เกี๊ยว', 'เท', 'เทียบ', 'เล่น', 'แพง', 'แล้วก็', 'ไม่งั้น', 'กลาย', 'กี่', 'ชั่วคราว', 'ชื่นใจ', 'ซะงั้น', 'ญี่', 'ดึก', 'ตบท้าย', 'ตัว', 'ทอด', 'ทานอาหาร', 'นพ', 'นึก', 'น้ะ', 'ปลา', 'ปุ', 'ผิดหวัง', 'วก', 'สมใจ', 'อย่า', 'อาหารเสริม', 'เติม', 'เป็นมา', 'เป็นหลัก', 'เย็น', '1.15', 'net', 'กลับมา', 'ของคาว', 'ชม.', 'ตรงนั้น', 'ยืน', 'ลายตา', 'สไลด์', 'อัพเดท', 'อิ่ม', 'เบ', 'เพลิน', 'ไลน์', '\"', '-', '/คน', '15', '359', 'G', 'Net', 'Shabushi', 'กด', 'กรอ', 'ขาดสารอาหาร', 'ขึ้นราคา', 'ข่าว', 'คนเดียว', 'ครึ่ง', 'คิว', 'งาน', 'จุ', 'ชั่วโมง', 'ชั้น', 'ชื่น', 'ดู', 'ตลับ', 'ตับ', 'ตั้งอยู่', 'ติง', 'ถนนใหญ่', 'ถูกใจ', 'ทำ', 'ทิ้ง', 'น้ำมัน', 'บดี', 'ปลาดิบ', 'ปอกเปลือก', 'ฝรั่ง', 'ฝั่ง', 'มอลล์', 'มื้อ', 'รอ', 'ระดับ', 'รายการ', 'ลด', 'ลา', 'ลูก', 'วันหยุด', 'วาง', 'วานิลา', 'สะอาด', 'สาเหตุ', 'สำหรับ', 'สไปรท์', 'หนา', 'หอม', 'หอย', 'หาไม่', 'ห่างหาย', 'ห้าง', 'อม', 'ออกมา', 'อาทิตย์', 'อีกครั้ง', 'เช็คบิล', 'เด่น', 'เด้ง', 'เบคอน', 'เปรี้ยวหวาน', 'เพื่อน', 'เลิก', 'เวลา', 'เสาร์', 'เหมือน', 'เหมือนกัน', 'แก้ว', 'แถม', 'แน่น', 'แป้ง', 'แย่', 'แออัด', 'โดน', 'โดยประมาณ', 'โฟลต', 'โอ', 'ใจดี', 'ใจมา', 'ใช้ได้', 'ใส่', 'ได้ยิน', 'ชอค', 'ต', 'นัด', 'นิ', 'มะนาว', 'มุ', 'ลงเอย', 'ว', 'วันก่อน', 'ห', 'หา', 'อยุ่', 'อาหารสด', 'เบอร์', 'แกงค์', 'แล', 'โก', 'กินที่', 'ขยัน', 'จอง', 'ชู', 'ณ์', 'บุฟเฟต์', 'ป', 'ประตู', 'พลาด', 'พอได้', 'พี่', 'รอบ', 'ร้อย', 'สาม', 'สุดท้าย', 'หลายครั้ง', 'หล่ะ', 'อาราม', 'เข้าหน้า', 'เต็ม', 'โชคดี', 'ขวัญใจ', 'ข้อดี', 'ต้องการ', 'ทั่วถึง', 'นํ้า', 'บ', 'ฟเฟ', 'มี่', 'ระบบ', 'รีวิว', 'สวัสดี', 'เก้', 'ใช้แล้ว', '^^', 'xx', 'กลยุทธ์', 'ขนาด', 'ข้น', 'ข้าวปั้น', 'ค่า', 'ชอป', 'ซุ้ม', 'ดีขึ้น', 'ตรงข้าม', 'ตรงนี้', 'ต้ม', 'ต้มยำ', 'ท่าน', 'นัล', 'บริเวณ', 'บัตรสมาชิก', 'ปรับปรุง', 'มันดี', 'มากขึ้น', 'ยอด', 'ลาน', 'สลัด', 'หมู่คณะ', 'ออกร้าน', 'อิอิ', 'เครือ', 'เคลื่อนตัว', 'เคาน์เตอร์', 'เบา', 'เป็นแนว', 'แมค', 'โชคชะตา', 'โด', 'โน้น', 'โออิชิ', '199', '39', '40', '49', 'HALL', 'MCC', 'ค่ายมวย', 'ด้านใน', 'ตอนแรก', 'ตัวเลือก', 'ติดกับ', 'ที่ไหนได้', 'นม', 'นา', 'น้ำดื่ม', 'พิซ', 'พิซซ่า', 'ฟี', 'ยู', 'รี', 'หลังจากที่', 'อลล์', 'อเรีย', 'เซ', 'แกงเขียวหวาน', 'แน่นอน', 'แวะ', '10', '300', '6', 'VAT', 'กำ', 'ค่าน้ำ', 'ช่อง', 'ซี', 'ซึป', 'ถูกหวย', 'ทอน', 'นึง', 'ฟรี', 'ฟู้ด', 'รับประกัน', 'ลอตเตอรี่', 'สัปดาห์', 'หวย', 'หัว', 'ฮัน', 'เงิน', 'แลก', 'โทส', 'ได้เวลา', 'Narai', 'mall', 'pizza', 'pizzeria', 'union', 'ของสด', 'ขึ้นใจ', 'ข้าวมันไก่', 'จำได้', 'ชื่อ', 'ตตี้', 'ตัดกำลัง', 'ตู้', 'นิว', 'บางส่วน', 'ปรุง', 'รู้จัก', 'ลี', 'สปา', 'สุก', 'เก', '😆', '🤣', '128', '255', '29', 'ครีม', 'จบ', 'จุก', 'ชาต', 'บรา', 'บุพ', 'ปิดท้าย', 'ย', 'วิป', 'สมราคา', 'สวย', 'เ', 'เซต', 'เด็ด', 'เป้ง', 'เฟ่', 'เรย', 'เริส', 'เเบบ', 'โชค', '%', '7', 'ทดแทน', 'ปรกติ', 'สดๆ ร้อนๆ', 'เงินสด', 'โดยเฉพาะ'])\n"
     ]
    }
   ],
   "source": [
    "print(dictionary.token2id.keys())"
   ]
  },
  {
   "cell_type": "code",
   "execution_count": 10,
   "metadata": {
    "executionInfo": {
     "elapsed": 1873,
     "status": "ok",
     "timestamp": 1605438651279,
     "user": {
      "displayName": "Thanachart Ritbumroong",
      "photoUrl": "",
      "userId": "18414212507793256437"
     },
     "user_tz": -420
    },
    "id": "VP1X-3ntQGKt"
   },
   "outputs": [],
   "source": [
    "gensim_corpus = [dictionary.doc2bow(text, allow_update=True) for text in texts]\n",
    "word_frequencies = [[(dictionary[id], frequence) for id, frequence in couple] for couple in gensim_corpus]"
   ]
  },
  {
   "cell_type": "markdown",
   "metadata": {
    "id": "DXgYt5g-0Zcd"
   },
   "source": [
    "## **Topic Modeling**"
   ]
  },
  {
   "cell_type": "code",
   "execution_count": 11,
   "metadata": {
    "colab": {
     "base_uri": "https://localhost:8080/"
    },
    "executionInfo": {
     "elapsed": 1870,
     "status": "ok",
     "timestamp": 1605438651280,
     "user": {
      "displayName": "Thanachart Ritbumroong",
      "photoUrl": "",
      "userId": "18414212507793256437"
     },
     "user_tz": -420
    },
    "id": "kaDtxDpuQZon",
    "outputId": "dc788b0c-8c87-433c-dac4-390376f43614"
   },
   "outputs": [
    {
     "name": "stdout",
     "output_type": "stream",
     "text": [
      "Wall time: 233 ms\n"
     ]
    }
   ],
   "source": [
    "num_topics = 7\n",
    "chunksize = 4000 # size of the doc looked at every pass\n",
    "passes = 20 # number of passes through documents\n",
    "iterations = 50\n",
    "eval_every = 1  # Don't evaluate model perplexity, takes too much time.\n",
    "\n",
    "# Make a index to word dictionary.\n",
    "temp = dictionary[0]  # This is only to \"load\" the dictionary.\n",
    "id2word = dictionary.id2token\n",
    "\n",
    "%time model = gensim.models.LdaModel(corpus=gensim_corpus, id2word=id2word, chunksize=chunksize, \\\n",
    "                       alpha='auto', eta='auto', \\\n",
    "                       iterations=iterations, num_topics=num_topics, \\\n",
    "                       passes=passes, eval_every=eval_every)"
   ]
  },
  {
   "cell_type": "code",
   "execution_count": 12,
   "metadata": {
    "colab": {
     "base_uri": "https://localhost:8080/",
     "height": 861
    },
    "executionInfo": {
     "elapsed": 2831,
     "status": "ok",
     "timestamp": 1605438652246,
     "user": {
      "displayName": "Thanachart Ritbumroong",
      "photoUrl": "",
      "userId": "18414212507793256437"
     },
     "user_tz": -420
    },
    "id": "bdrm8raPROPN",
    "outputId": "72ad1bad-3e07-4825-cbff-90c393e0aa64"
   },
   "outputs": [
    {
     "data": {
      "text/html": [
       "\n",
       "<link rel=\"stylesheet\" type=\"text/css\" href=\"https://cdn.rawgit.com/bmabey/pyLDAvis/files/ldavis.v1.0.0.css\">\n",
       "\n",
       "\n",
       "<div id=\"ldavis_el1632820012670933921747612057\"></div>\n",
       "<script type=\"text/javascript\">\n",
       "\n",
       "var ldavis_el1632820012670933921747612057_data = {\"mdsDat\": {\"x\": [-0.10780563643807345, 0.0659628313541018, 0.14005009329898835, -0.07241017584861581, 0.04099653330822489, -0.030770391466629486, -0.03602325420799619], \"y\": [-0.11052032397242735, -0.05269942191890046, 0.003520851909363553, 0.12896719068572177, 0.020384781141889675, -0.010669423821821108, 0.02101634597617412], \"topics\": [1, 2, 3, 4, 5, 6, 7], \"cluster\": [1, 1, 1, 1, 1, 1, 1], \"Freq\": [31.85278479807395, 24.625053928852928, 15.736819820192489, 12.468607142235784, 6.487631573946932, 6.277223192791281, 2.5518795439066357]}, \"tinfo\": {\"Term\": [\"\\u200b\", \"\\u0e2d\\u0e32\\u0e2b\\u0e32\\u0e23\", \":\", \"-\", \"\\u0e17\\u0e32\\u0e19\", \"\\u0e01\\u0e38\\u0e49\\u0e07\", \"\\u0e04\\u0e38\\u0e49\\u0e21\", \"\\u0e19\\u0e49\\u0e33\", \"\", \"\\u0e04\\u0e19\", \"\\u0e40\\u0e17\", \"\\u0e1b\\u0e38\\u0e23\\u0e30\", \"\\u0e21\", \"\\u0e0a\\u0e32\\u0e1a\\u0e39\", \"\\u0e1a\\u0e32\\u0e17\", \"\\u0e23\\u0e2a\\u0e0a\\u0e32\\u0e15\\u0e34\", \"\\u0e40\\u0e25\\u0e37\\u0e2d\\u0e01\", \"\\u0e1a\\u0e23\\u0e34\\u0e01\\u0e32\\u0e23\", \"\\u0e0b\\u0e39\\u0e0a\\u0e34\", \"\\u0e1a\\u0e38\\u0e1f\\u0e40\\u0e1f\\u0e48\\u0e15\\u0e4c\", \"\\u0e14\\u0e35\\u0e21\\u0e32\\u0e01\", \"\\u0e40\\u0e19\\u0e37\\u0e49\\u0e2d\", \"\\u0e2a\\u0e32\\u0e02\\u0e32\", \"\\u0e23\\u0e2a\", \"\\u0e2a\\u0e32\\u0e22\\u0e1e\\u0e32\\u0e19\", \"\\u0e14\\u0e35\", \"\\u0e01\\u0e34\\u0e19\", \"\\u0e0a\\u0e34\", \"\\u0e40\\u0e21\\u0e19\\u0e39\", \"\\u0e2a\\u0e14\", \"-\", \"\\u0e2a\\u0e33\\u0e2b\\u0e23\\u0e31\\u0e1a\", \"\\u0e04\\u0e19\", \"\\u0e43\\u0e0a\\u0e49\\u0e44\\u0e14\\u0e49\", \"+\", \"\\u0e0a\\u0e31\\u0e48\\u0e27\\u0e42\\u0e21\\u0e07\", \"\\u0e40\\u0e27\\u0e25\\u0e32\", \"\\u0e2a\\u0e14\", \"\\u0e19\\u0e4d\\u0e49\\u0e32\", \"\\u0e07\\u0e32\\u0e19\", \"\\u0e40\\u0e14\\u0e49\\u0e07\", \"\\u0e0a\\u0e37\\u0e48\\u0e19\", \"\\u0e1b\\u0e2d\\u0e01\\u0e40\\u0e1b\\u0e25\\u0e37\\u0e2d\\u0e01\", \"\\u0e27\\u0e32\\u0e19\\u0e34\\u0e25\\u0e32\", \"\\u0e42\\u0e14\\u0e19\", \"\\u0e43\\u0e08\\u0e14\\u0e35\", \"\\u0e2d\\u0e35\\u0e01\\u0e04\\u0e23\\u0e31\\u0e49\\u0e07\", \"\\u0e40\\u0e0a\\u0e47\\u0e04\\u0e1a\\u0e34\\u0e25\", \"\\u0e2b\\u0e2d\\u0e21\", \"\\u0e23\\u0e2d\\u0e1a\", \"\\u0e25\", \"\\u0e2b\\u0e21\\u0e39\", \"\\u0e14\\u0e39\", \"Shabushi\", \"\\u0e04\\u0e23\\u0e36\\u0e48\\u0e07\", \"\\u0e40\\u0e25\\u0e34\\u0e01\", \"\\u0e01\\u0e25\\u0e31\\u0e1a\\u0e21\\u0e32\", \"\\u0e0a\\u0e31\\u0e49\\u0e19\", \"\\u0e15\\u0e31\\u0e27\", \"1\", \"\\u0e02\\u0e2d\\u0e07\\u0e2b\\u0e27\\u0e32\\u0e19\", \"\\u0e01\\u0e38\\u0e49\\u0e07\", \"\\u0e01\\u0e34\\u0e19\", \"\\u0e04\\u0e34\\u0e27\", \"\\u0e14\\u0e35\", \"\\u0e2a\\u0e32\\u0e02\\u0e32\", \"\\u0e19\\u0e38\\u0e48\\u0e21\", \"\\u0e21\\u0e2d\\u0e25\\u0e25\\u0e4c\", \"\\u0e23\\u0e2d\", \"\\u0e1a\\u0e38\", \"\\u0e01\\u0e30\\u0e1b\\u0e34\", \"\\u0e23\\u0e2a\\u0e0a\\u0e32\\u0e15\\u0e34\", \"\\u0e23\\u0e32\\u0e04\\u0e32\", \"\\u0e1a\\u0e32\\u0e17\", \"\\u0e18\\u0e23\\u0e23\\u0e21\\u0e14\\u0e32\", \"\\u0e2d\\u0e23\\u0e48\\u0e2d\\u0e22\", \"\\u0e0b\\u0e38\\u0e1b\", \"\\u0e17\\u0e32\\u0e19\", \"\\u0e19\\u0e49\\u0e33\", \"\\u0e40\\u0e19\\u0e37\\u0e49\\u0e2d\", \"\\u0e40\\u0e14\\u0e2d\\u0e30\", \"\\u0e04\\u0e38\\u0e49\\u0e21\", \"\\u0e40\\u0e21\\u0e19\\u0e39\", \"\\u0e0a\\u0e32\\u0e1a\\u0e39\", \"\\u0e0a\\u0e38\\u0e14\", \"\\u0e15\\u0e49\\u0e21\\u0e22\\u0e33\", \"\\u0e0a\\u0e37\\u0e48\\u0e2d\", \"\\u0e1a\\u0e32\\u0e07\\u0e2a\\u0e48\\u0e27\\u0e19\", \"\\u0e04\\u0e48\\u0e32\", \"VAT\", \"\\u0e41\\u0e1a\\u0e48\\u0e07\", \"\\u0e1e\\u0e2d\\u0e19\", \"\\u0e0b\\u0e36\", \"\\u0e2a\\u0e38\\u0e01\\u0e35\\u0e49\", \"3\", \"\\u0e2b\\u0e21\\u0e49\\u0e2d\", \"union\", \"\\u0e25\\u0e35\", \"300\", \"\\u0e17\\u0e2d\\u0e19\", \"10\", \"\\u0e15\\u0e31\\u0e14\\u0e01\\u0e33\\u0e25\\u0e31\\u0e07\", \"\\u0e15\\u0e15\\u0e35\\u0e49\", \"\\u0e0b\\u0e35\", \"\\u0e2e\\u0e31\\u0e19\", \"\\u0e25\\u0e2d\\u0e15\\u0e40\\u0e15\\u0e2d\\u0e23\\u0e35\\u0e48\", \"6\", \"\\u0e0b\\u0e36\\u0e1b\", \"\\u0e1f\\u0e39\\u0e49\\u0e14\", \"\\u0e2b\\u0e21\\u0e39\\u0e48\\u0e04\\u0e13\\u0e30\", \"\\u0e23\\u0e31\\u0e1a\\u0e1b\\u0e23\\u0e30\\u0e01\\u0e31\\u0e19\", \"\\u0e19\\u0e36\\u0e07\", \"\\u0e01\\u0e33\", \"\\u0e44\\u0e14\\u0e49\\u0e40\\u0e27\\u0e25\\u0e32\", \"\\u0e2b\\u0e19\\u0e49\\u0e32\", \"\\u0e1a\\u0e38\\u0e1f\\u0e40\\u0e1f\\u0e48\\u0e15\\u0e4c\", \"\\u0e42\\u0e21\", \"\\u0e40\\u0e25\\u0e37\\u0e2d\\u0e01\", \"\\u0e2b\\u0e22\\u0e34\\u0e1a\", \"\\u0e2d\\u0e32\\u0e2b\\u0e32\\u0e23\", \"\\u0e42\\u0e1b\\u0e23\\u0e42\\u0e21\\u0e0a\\u0e31\\u0e48\\u0e19\", \"\\u0e41\\u0e19\\u0e30\\u0e19\\u0e33\", \"/\", \"\\u0e2a\\u0e31\\u0e48\\u0e07\", \"\", \":\", \"\\u0e19\\u0e49\\u0e33\", \"\\u0e19\\u0e49\\u0e33\\u0e08\\u0e34\\u0e49\\u0e21\", \"\\u0e1a\\u0e32\\u0e17\", \"\\u0e14\\u0e33\", \"\\u0e25\\u0e2d\\u0e07\", \"\\u0e2d\\u0e23\\u0e48\\u0e2d\\u0e22\", \"\\u0e17\\u0e32\\u0e19\", \"\\u0e23\\u0e32\\u0e04\\u0e32\", \"\\u0e0a\\u0e32\\u0e1a\\u0e39\", \"\\u0e14\\u0e35\", \"\\u0e0a\\u0e2d\\u0e1a\", \"\\u0e02\\u0e2d\\u0e07\\u0e2b\\u0e27\\u0e32\\u0e19\", \"\\u0e0b\\u0e38\\u0e1b\", \"\\u0e40\\u0e19\\u0e37\\u0e49\\u0e2d\", \"\\u0e01\\u0e34\\u0e19\", \"\\u0e1e\\u0e19\\u0e31\\u0e01\\u0e07\\u0e32\\u0e19\", \"\\u0e40\\u0e19\\u0e37\\u0e49\\u0e2d\\u0e27\\u0e31\\u0e27\", \"\\u0e04\\u0e38\\u0e13\\u0e20\\u0e32\\u0e1e\", \"\\u0e40\\u0e2b\\u0e47\\u0e14\", \"\\u0e40\\u0e01\\u0e34\\u0e19\\u0e44\\u0e1b\", \"\\u0e44\\u0e21\\u0e49\", \"::\", \"\\u0e1a\\u0e38\\u0e1f\\u0e40\\u0e1f\\u0e15\\u0e4c\", \"\\u0e44\\u0e1c\\u0e48\", \"\\u0e44\\u0e14\\u0e1f\\u0e39\\u0e01\\u0e38\", \"\\u0e2a\", \"\\u0e40\\u0e25\\u0e35\\u0e48\\u0e22\\u0e19\", \"\\u0e16\\u0e49\\u0e27\\u0e22\", \"\\u0e42\\u0e2b\\u0e14\", \"\\u0e44\\u0e27\", \"\\u0e15\\u0e01\", \"\\u0e15\\u0e30\", \"\\u0e41\\u0e14\\u0e07\", \"++\", \"\\u0e42\\u0e04\\u0e27\\u0e34\\u0e14\", \"\\u0e27\\u0e27\\u0e27\", \"\\u0e40\\u0e02\\u0e49\\u0e32\\u0e01\\u0e31\\u0e19\", \"\\u0e15\\u0e32\\u0e21\\u0e19\\u0e49\\u0e33\", \"\\u0e25\\u0e34\\u0e49\\u0e19\", \"\\u0e41\\u0e15\\u0e32\", \"\\u0e2a\\u0e32\\u0e21\\u0e23\\u0e2a\", \"\\u0e44\\u0e2b\\u0e27\", \"\\u0e41\\u0e15\\u0e01\", \"\\u0e40\\u0e1a\\u0e2d\", \"\\u0e04\\u0e38\", \"\\u0e41\\u0e22\\u0e49\", \"\\u0e40\\u0e19\\u0e37\\u0e49\\u0e2d\\u0e2a\\u0e31\\u0e15\\u0e27\\u0e4c\", \"\\u0e2a\\u0e38\\u0e14\\u0e17\\u0e49\\u0e32\\u0e22\", \"\\u0e0a\\u0e32\\u0e40\\u0e02\\u0e35\\u0e22\\u0e27\", \"\\u0e40\\u0e2a\\u0e34\\u0e23\\u0e4c\\u0e1f\", \"\", \"2\", \"\\u0e19\\u0e36\\u0e01\\u0e16\\u0e36\\u0e07\", \"\\u0e40\\u0e1b\\u0e47\\u0e14\", \"\\u0e40\\u0e19\\u0e37\\u0e49\\u0e2d\\u0e27\\u0e31\\u0e27\", \"\\u0e44\\u0e01\\u0e48\", \"\\u0e40\\u0e19\\u0e37\\u0e49\\u0e2d\\u0e2b\\u0e21\\u0e39\", \"\\u0e42\\u0e15\\u0e4a\\u0e30\", \"\\u0e23\\u0e2a\", \"\\u0e2a\\u0e48\\u0e27\\u0e19\\u0e15\\u0e31\\u0e27\", \":\", \"\\u0e0a\\u0e2d\\u0e1a\", \"\\u0e19\\u0e49\\u0e33\", \"\\u0e2a\\u0e31\\u0e48\\u0e07\", \"\\u0e40\\u0e19\\u0e37\\u0e49\\u0e2d\", \"\\u0e14\\u0e33\", \"\\u0e0b\\u0e38\\u0e1b\", \"\\u0e40\\u0e25\\u0e37\\u0e2d\\u0e01\", \"\\u0e2d\\u0e23\\u0e48\\u0e2d\\u0e22\", \"\\u0e17\\u0e32\\u0e19\", \"\\u0e1c\\u0e31\\u0e01\", \"\\u0e0a\\u0e32\\u0e1a\\u0e39\", \"\\u0e23\\u0e2a\\u0e0a\\u0e32\\u0e15\\u0e34\", \"\\u0e23\\u0e32\\u0e04\\u0e32\", \"\\u200b\", \"\\u0e1b\\u0e23\\u0e30\\u0e17\\u0e31\\u0e1a\\u0e43\\u0e08\", \"\\u0e19\\u0e48\\u0e32\\u0e23\\u0e31\\u0e01\", \"\\u0e0a\\u0e31\\u0e48\\u0e27\\u0e04\\u0e23\\u0e32\\u0e27\", \"\\u0e0a\\u0e37\\u0e48\\u0e19\\u0e43\\u0e08\", \"\\u0e2a\\u0e21\\u0e43\\u0e08\", \"\\u0e19\\u0e1e\", \"\\u0e01\\u0e35\\u0e48\", \"\\u0e14\\u0e36\\u0e01\", \"\\u0e27\\u0e01\", \"\\u0e40\\u0e1b\\u0e47\\u0e19\\u0e21\\u0e32\", \"\\u0e01\\u0e25\\u0e32\\u0e22\", \"\\u0e1b\\u0e25\\u0e32\", \"\\u0e0b\\u0e30\\u0e07\\u0e31\\u0e49\\u0e19\", \"\\u0e19\\u0e49\\u0e30\", \"\\u0e1b\\u0e38\", \"\\u0e17\\u0e32\\u0e19\\u0e2d\\u0e32\\u0e2b\\u0e32\\u0e23\", \"\\u0e40\\u0e22\\u0e47\\u0e19\", \"\\u0e2d\\u0e32\\u0e2b\\u0e32\\u0e23\\u0e40\\u0e2a\\u0e23\\u0e34\\u0e21\", \"\\u0e0d\\u0e35\\u0e48\", \"\\u0e2a\\u0e39\\u0e49\", \"\\u0e01\\u0e32\\u0e23\\u0e07\\u0e14\", \"\\u0e17\\u0e30\\u0e22\\u0e2d\\u0e22\", \"\\u0e1e\\u0e19\\u0e31\\u0e01\\u0e07\\u0e32\\u0e19\\u0e1a\\u0e23\\u0e34\\u0e01\\u0e32\\u0e23\", \"Terminal\", \"\\u0e40\\u0e04\\u0e23\\u0e37\\u0e48\\u0e2d\\u0e07\\u0e14\\u0e37\\u0e48\\u0e21\", \"\\u0e17\\u0e33\\u0e07\\u0e32\\u0e19\", \"\\u0e2a\\u0e21\\u0e32\\u0e17\\u0e32\\u0e19\", \"\\u0e40\\u0e2b\\u0e27\\u0e35\\u0e48\\u0e22\\u0e07\", \"21\", \"\\u0e1a\\u0e23\\u0e34\\u0e01\\u0e32\\u0e23\", \"\\u0e40\\u0e17\", \"\\u0e1b\\u0e38\\u0e23\\u0e30\", \"\\u0e21\", \"\\u0e01\\u0e38\\u0e49\\u0e07\", \"\\u0e01\\u0e34\\u0e19\", \"\\u0e2d\\u0e32\\u0e2b\\u0e32\\u0e23\", \"\\u0e14\\u0e35\", \"\\u0e04\\u0e38\\u0e13\\u0e20\\u0e32\\u0e1e\", \"\\u0e17\\u0e2d\\u0e14\", \"\\u0e2a\\u0e32\\u0e02\\u0e32\", \"\\u0e23\\u0e2a\\u0e0a\\u0e32\\u0e15\\u0e34\", \"\\u0e0a\\u0e32\\u0e1a\\u0e39\", \"\\u0e1e\\u0e19\\u0e31\\u0e01\\u0e07\\u0e32\\u0e19\", \"\\u0e2d\\u0e23\\u0e48\\u0e2d\\u0e22\", \"\\u0e17\\u0e32\\u0e19\", \"\\u0e44\\u0e2d\\u0e15\\u0e34\\u0e21\", \"\\u0e04\\u0e38\\u0e49\\u0e21\", \"\\u0e40\\u0e19\\u0e37\\u0e49\\u0e2d\", \"\\u0e15\\u0e31\\u0e27\", \"\\u0e0a\\u0e2d\\u0e1a\", \"\\u0e2d\\u0e22\\u0e48\\u0e32\", \"\\u0e1c\\u0e34\\u0e14\\u0e2b\\u0e27\\u0e31\\u0e07\", \"\\u0e0d\\u0e35\\u0e48\\u0e1b\\u0e38\\u0e48\\u0e19\", \"\\u0e19\\u0e32\\u0e17\\u0e35\", \"\\u0e42\\u0e14\\u0e22\\u0e23\\u0e27\\u0e21\", \"\\u0e0a\\u0e34\", \"\\u0e15\\u0e48\\u0e32\\u0e07 \\u0e46\", \"\\u0e02\\u0e19\\u0e21\", \"\\u0e41\\u0e04\\u0e1a\", \"\\u0e40\\u0e14\\u0e47\\u0e01\", \"\\u0e2a\\u0e1a\\u0e32\\u0e22\\u0e14\\u0e35\", \"\\u0e40\\u0e2b\\u0e21\\u0e37\\u0e2d\\u0e19\\u0e01\\u0e31\\u0e1a\", \"\\u0e44\\u0e14\\u0e49\\u0e01\\u0e25\\u0e34\\u0e48\\u0e19\", \"\\u0e15\\u0e31\\u0e14\\u0e2a\\u0e34\\u0e19\\u0e43\\u0e08\", \"\\u0e04\\u0e38\\u0e13\\u0e20\\u0e32\\u0e1e\\u0e14\\u0e35\", \"\\u0e1a\\u0e31\\u0e15\\u0e23\\u0e40\\u0e04\\u0e23\\u0e14\\u0e34\\u0e15\", \"\\u0e17\\u0e35\\u0e48\\u0e08\\u0e30\", \"\\u0e40\\u0e2a\\u0e49\\u0e19\", \"\\u0e15\\u0e33\", \"\\u0e07\\u0e27\\u0e14\", \"\\u0e17\\u0e31\\u0e48\\u0e27\\u0e44\\u0e1b\", \"\\u0e44\\u0e2d\\u0e28\\u0e04\\u0e23\\u0e35\\u0e21\", \"\\u0e15\\u0e2d\\u0e19\\u0e17\\u0e35\\u0e48\", \"\\u0e2a\\u0e38\\u0e01\\u0e35\\u0e49\\u0e22\\u0e32\\u0e01\\u0e35\\u0e49\", \"\\u0e44\\u0e02\\u0e48\\u0e44\\u0e01\\u0e48\", \"\\u0e40\\u0e1f\\u0e23\\u0e19\\u0e44\\u0e0a\\u0e2a\\u0e4c\", \"\\u0e01\\u0e32\\u0e41\\u0e1f\", \"\\u0e1a\\u0e4a\\u0e27\\u0e22\", \"\\u0e23\\u0e49\\u0e2d\\u0e19\", \"!!!!\", \"\\u0e2d\\u0e2d\\u0e2a\\u0e40\\u0e15\\u0e23\\u0e40\\u0e25\\u0e35\\u0e22\", \"\\u0e25\\u0e38\\u0e22\", \"\\u0e22\\u0e38\", \"\\u0e42\\u0e0a\", \"500\", \"\\u0e40\\u0e1b\\u0e47\\u0e19\\u0e1b\\u0e01\\u0e15\\u0e34\", \"\\u0e19\\u0e31\\u0e48\\u0e07\", \"\\u0e14\\u0e35\\u0e21\\u0e32\\u0e01\", \"\\u0e41\\u0e19\\u0e30\\u0e19\\u0e33\", \"\\u0e0a\\u0e32\\u0e1a\\u0e39\", \"\\u0e19\\u0e49\\u0e33\", \"\\u0e40\\u0e19\\u0e37\\u0e49\\u0e2d\", \"\\u0e2a\\u0e32\\u0e02\\u0e32\", \"\\u0e23\\u0e2a\\u0e0a\\u0e32\\u0e15\\u0e34\", \"\\u0e0b\\u0e38\\u0e1b\", \"\\u0e40\\u0e25\\u0e37\\u0e2d\\u0e01\", \"\\u0e01\\u0e34\\u0e19\", \"\\u0e14\\u0e35\", \"\\u0e1c\\u0e31\\u0e01\", \"\\u0e1a\\u0e23\\u0e34\\u0e01\\u0e32\\u0e23\", \"\\u0e2d\\u0e23\\u0e48\\u0e2d\\u0e22\", \"\\u0e17\\u0e35\\u0e48\\u0e19\\u0e31\\u0e48\\u0e07\", \"\\u0e2a\\u0e31\\u0e48\\u0e07\", \"CTW\", \"2\", \"\\u0e40\\u0e14\\u0e34\\u0e19\", \"\\u0e15\\u0e31\\u0e01\", \"\\u0e25\\u0e39\\u0e01\\u0e0a\\u0e34\\u0e49\\u0e19\", \"\\u0e2b\\u0e19\\u0e49\\u0e32\", \"\\u0e2b\\u0e2d\", \"\\u0e22\\u0e37\\u0e19\", \"net\", \"\\u0e15\\u0e23\\u0e07\\u0e19\\u0e31\\u0e49\\u0e19\", \"1.15\", \"\\u0e2b\\u0e32\", \"\\u0e0a\\u0e2d\\u0e04\", \"\\u0e21\\u0e38\", \"\\u0e2d\\u0e32\\u0e2b\\u0e32\\u0e23\\u0e2a\\u0e14\", \"\\u0e19\\u0e34\", \"\\u0e02\\u0e2d\\u0e07\\u0e04\\u0e32\\u0e27\", \"\\u0e2d\\u0e22\\u0e38\\u0e48\", \"\\u0e40\\u0e1a\\u0e2d\\u0e23\\u0e4c\", \"\\u0e42\\u0e01\", \"\\u0e25\\u0e32\\u0e22\\u0e15\\u0e32\", \"\\u0e41\\u0e25\", \"\\u0e15\", \"\\u0e41\\u0e01\\u0e07\\u0e04\\u0e4c\", \"\\u0e2d\\u0e31\\u0e1e\\u0e40\\u0e14\\u0e17\", \"\\u0e25\\u0e07\\u0e40\\u0e2d\\u0e22\", \"\\u0e2b\", \"\\u0e21\\u0e30\\u0e19\\u0e32\\u0e27\", \"\\u0e19\\u0e31\\u0e14\", \"\\u0e27\\u0e31\\u0e19\\u0e01\\u0e48\\u0e2d\\u0e19\", \"\\u0e0a\\u0e21.\", \"399\", \"\\u0e15\\u0e2d\\u0e19\\u0e19\\u0e35\\u0e49\", \"\\u0e2a\\u0e44\\u0e25\\u0e14\\u0e4c\", \"\\u0e40\\u0e1b\\u0e47\\u0e19\\u0e2b\\u0e25\\u0e31\\u0e01\", \"\\u0e23\\u0e35\\u0e48\", \"\\u0e2a\\u0e15\\u0e2d\", \":\", \"\\u0e23\\u0e2a\", \"\\u0e17\\u0e32\\u0e19\", \"\\u0e0b\\u0e39\\u0e0a\\u0e34\", \"\\u0e1a\\u0e38\\u0e1f\\u0e40\\u0e1f\\u0e48\\u0e15\\u0e4c\", \"\\u0e23\\u0e2a\\u0e0a\\u0e32\\u0e15\\u0e34\", \"\\u0e1a\\u0e32\\u0e17\", \"\\u0e23\\u0e32\\u0e04\\u0e32\", \"\\u0e14\\u0e35\", \"\\u0e19\\u0e49\\u0e33\", \"\\u0e0b\\u0e38\\u0e1b\", \"\\u0e2d\\u0e32\\u0e2b\\u0e32\\u0e23\", \"\\u0e2d\\u0e23\\u0e48\\u0e2d\\u0e22\", \"\\u0e40\\u0e19\\u0e37\\u0e49\\u0e2d\", \"\\u0e0a\\u0e32\\u0e1a\\u0e39\", \"\\u0e04\\u0e38\\u0e49\\u0e21\", \"\\u0e40\\u0e25\\u0e37\\u0e2d\\u0e01\", \"\\u0e01\\u0e38\\u0e49\\u0e07\", \"\\u0e2a\\u0e14\", \"4\", \"1\", \"\\u0e40\\u0e27\\u0e25\\u0e32\", \"\\u0e44\\u0e25\\u0e19\\u0e4c\", \"\\u0e1b\\u0e38\\u0e23\\u0e30\", \"\\u0e0a\\u0e34\", \"\\u0e19\\u0e38\\u0e48\\u0e21\", \"\\u0e01\\u0e25\\u0e31\\u0e1a\\u0e21\\u0e32\", \"\\u0e04\\u0e19\", \"\\u0e44\\u0e21\\u0e48\\u0e07\\u0e31\\u0e49\\u0e19\", \"\\u0e25\\u0e30\\u0e25\\u0e32\\u0e19\\u0e15\\u0e32\", \"\\u0e40\\u0e01\\u0e35\\u0e4a\\u0e22\\u0e27\", \"\\u0e0b\\u0e48\\u0e32\", \"\\u0e32\\u0e19\", \"..\", \"\\u0e02\\u0e2d\\u0e07\\u0e01\\u0e34\\u0e19\", \"\\u0e02\\u0e32\", \"\\u0e2e\\u0e48\\u0e32\", \"\\u0e1b\\u0e39\\u0e2d\\u0e31\\u0e14\", \"\\u0e15\\u0e2d\\u0e19\\u0e19\\u0e35\\u0e49\", \"399\", \"\\u0e1a\\u0e39\", \"\\u0e41\\u0e25\\u0e49\\u0e27\\u0e01\\u0e47\", \"\\u0e41\\u0e1e\\u0e07\", \"\\u0e40\\u0e25\\u0e48\\u0e19\", \"\\u0e40\\u0e17\\u0e35\\u0e22\\u0e1a\", \"\\u0e19\\u0e34\\u0e14\\u0e19\\u0e36\\u0e07\", \"\\u0e2b\\u0e34\\u0e27\", \"\\u0e15\\u0e2d\\u0e19\", \"\\u0e04\\u0e38\\u0e49\\u0e21\", \"\\u0e2d\\u0e32\\u0e2b\\u0e32\\u0e23\", \"\\u0e40\\u0e17\", \"\\u0e21\", \"\\u0e1b\\u0e38\\u0e23\\u0e30\", \"\\u0e2a\\u0e32\\u0e22\\u0e1e\\u0e32\\u0e19\", \"\\u0e40\\u0e21\\u0e19\\u0e39\", \"\\u0e0b\\u0e39\\u0e0a\\u0e34\", \"\\u0e0a\\u0e34\", \"\\u0e27\\u0e31\\u0e19\\u0e01\\u0e48\\u0e2d\\u0e19\", \"\\u0e01\\u0e38\\u0e49\\u0e07\", \"\\u0e17\\u0e32\\u0e19\", \"\\u0e23\\u0e32\\u0e04\\u0e32\", \"\\u0e1a\\u0e32\\u0e17\"], \"Freq\": [8.0, 12.0, 10.0, 13.0, 18.0, 9.0, 7.0, 20.0, 8.0, 9.0, 4.0, 4.0, 4.0, 14.0, 11.0, 10.0, 14.0, 6.0, 5.0, 6.0, 4.0, 14.0, 10.0, 4.0, 5.0, 15.0, 18.0, 6.0, 5.0, 8.0, 12.57323825977844, 4.270001544263701, 8.35805695943951, 2.6093234297576133, 2.6061168474947176, 2.6055028927549166, 4.269635739211328, 6.841406901978516, 1.7795925391897445, 1.7793696464679587, 1.7790777180400863, 1.7790583543664278, 1.779048251580171, 1.7790488830043123, 1.7790415163893334, 1.7790480411054574, 1.7790356230973505, 1.7790069985362902, 1.7789990004971703, 1.7692416032457363, 1.766462495126322, 3.4368716975446336, 4.223721943270586, 1.7024313515441833, 1.694151171070704, 1.6879059653664277, 2.6092215599961928, 2.601756232376721, 2.609017820473352, 3.4397558325461737, 5.088894670874823, 5.929480584325961, 9.807619885713107, 3.1420677641339054, 7.5904918803038015, 5.310402048095203, 3.527747101821433, 2.6081479284817175, 3.188803884780989, 2.7195789247205258, 2.7163929689795703, 4.364829663663388, 4.8753693366959965, 4.334755352775256, 2.6094465574651156, 5.185397748045965, 4.375566820706996, 4.39868410040919, 4.520449615564339, 3.824637892018286, 2.716966512574345, 2.769409865557542, 2.719227431948682, 2.7332040053105207, 2.5250599795788564, 1.7216925638150893, 1.7216655529932567, 1.7216556273298123, 1.7216364268661, 1.721558648716486, 1.7214727347771632, 1.7212540447497964, 1.7211972569376306, 1.718184574008541, 3.3286535702965216, 3.3287889498372727, 0.9182523327334304, 0.9182477766911936, 0.9182398036172793, 0.9182380951014405, 0.9182297965959377, 0.9182358984382192, 0.9182324814065416, 0.9182223930273029, 0.9182202777219787, 0.9182179183429632, 0.9182198709324932, 0.9182178369850661, 0.9182136063744176, 0.9182306915328057, 0.9182173488376836, 0.9182087249005925, 0.9182086435426954, 0.9182089689742837, 3.3285536627989005, 4.122372427613288, 3.3247435097625755, 7.313992288395389, 2.5251428019180895, 5.713646004378625, 1.7216624613931675, 1.721707533668153, 1.6255756933346774, 3.3285178653241827, 3.328428371637388, 4.107888118479298, 6.408437238586457, 2.519582152368065, 4.069826616201414, 2.517586605868343, 2.525103587411694, 4.9354007682244125, 4.881534355427042, 4.061636153985987, 4.051511000977857, 3.329174911701048, 2.5252542622370973, 2.5251880369088693, 2.525384434872435, 2.4307964419940604, 2.526062308870954, 1.7218211092924849, 1.7218209465766907, 1.7218106954816579, 2.2657216366457047, 1.5466441662588277, 1.545640089882107, 1.545584977984876, 1.5455920489452755, 1.545530282026492, 1.545528202332257, 0.8248957445657733, 0.8248896094677797, 0.824875363562269, 0.8248699043649018, 0.8248192118179205, 0.8246222647738537, 0.8245818147209804, 0.8245316940899138, 0.8245235312900409, 0.8245102732392919, 0.8244956633872902, 0.8244695632246393, 0.8244443469320383, 0.8244080562676354, 0.8244029610167593, 0.8243911587519749, 0.8243823200514756, 0.8243523724544897, 0.8243352149770499, 0.8243324593821884, 0.8243217489568774, 0.8242804150339542, 0.8242632055641586, 1.5464397323155143, 1.5444557040152005, 4.426956107407708, 2.980895624937955, 1.5466393829620868, 1.5455928808229695, 2.2658062802010743, 2.2501661476752037, 1.545240372650115, 1.5438006003311346, 2.264655585380777, 1.5409596340212355, 4.422077144732094, 2.989800043775087, 5.781010085037622, 2.979672972697122, 4.1842349932257, 2.2583738689435675, 3.6208853391194835, 3.5276293539831776, 3.63904772481372, 3.649643766941707, 1.8962926555553268, 2.9555720201144724, 2.1834289676393097, 1.8064575594663859, 8.109209721870826, 1.4311233924298212, 1.4311255345498872, 0.763408666733845, 0.763407595673812, 0.7634072661168788, 0.763404135326013, 0.7634026523198135, 0.7633968026842487, 0.7633967202950154, 0.7633967202950154, 0.7633961435703822, 0.763395566845749, 0.763393671893383, 0.7633904587132839, 0.7633888933178511, 0.7633857625269854, 0.7633829612930529, 0.7633829612930529, 0.7633803248375871, 0.7633570086845609, 0.7633533835582954, 0.7633453094134313, 0.7633423434010321, 0.7633391302209331, 0.7633387182747666, 0.7633380591609001, 0.7633371528793338, 0.7633370704901005, 0.7633373176578003, 3.434846353881738, 2.7677822559611944, 2.76775226628027, 2.767682400210425, 2.7683698559731464, 3.435268845870141, 2.7669916488783715, 2.767431936941169, 1.4313227743744263, 1.4315066671431695, 2.099641495539783, 2.0988650594050893, 2.0997115263880946, 1.4315561006831543, 2.099098880049217, 2.0995045646340253, 1.4314641542987827, 1.4314214766759292, 1.4315203437558988, 0.763734845708511, 0.7636458653365384, 0.7635958550719206, 0.7635632289355306, 0.7635363700454723, 0.7635208808696103, 0.7634657624725274, 0.7634627964601283, 1.0966098483501519, 0.5848512552663069, 0.5848468826751669, 0.5848473113605728, 0.5848466683324639, 0.5848446535110563, 0.584844267694191, 0.5848436246660821, 0.5848358654602356, 0.5848350509579644, 0.5848258342217378, 0.5848250625880073, 0.5847776071135755, 0.5847773927708726, 0.5847730630482731, 0.5847668042413472, 0.5847650894997236, 0.5847607597771242, 0.5847596451950688, 0.584757758979283, 0.5847518002521411, 0.5847484136374346, 0.5847404400888851, 0.5847373964225033, 0.5847349529156898, 0.5847224353018379, 0.5847201632691866, 0.5847121897206371, 0.5847117181666907, 0.5846684638092366, 1.0966348835778557, 1.607935854990916, 1.096319542593285, 2.1202576120924745, 2.120158671500796, 1.6086116346647563, 1.0969220170627187, 1.0964335729112509, 1.096408880631872, 1.0968511982336662, 1.0969971227458302, 0.5851488486750738, 0.5850091829698357, 0.5849732162642818, 0.5849386213520267, 0.5849215596728724, 0.5849212167245477, 0.5849209166447635, 0.5849176157671383, 0.5849022259610669, 0.5848898369528368, 0.5848734611703319, 0.5848701602927066, 0.5848536559045799, 0.5752576734642754, 0.5752565950306054, 0.5752495437335324, 0.5752478016483732, 0.575233076880956, 0.575225984105665, 0.575224407933378, 0.5752252374977396, 0.5752246982809045, 0.5752399622651567, 0.5752205089808788, 0.5752179373313581, 0.5752181032442304, 0.5752354411393864, 0.5752177714184857, 0.5752171077669965, 0.5752165685501616, 0.5752295097542014, 0.5752087706451632, 0.5752093098619981, 0.5752003090886755, 0.5751998113500586, 0.5751855428430402, 1.0786619661030252, 0.5753358599053497, 0.5753146230576945, 1.078600578340272, 0.5752597473751793, 0.575260659895977, 0.5752442345216187, 2.085345950813423, 1.0786009101660166, 2.589163615373524, 1.078861227462665, 1.0788750811875027, 1.079582201849272, 1.0794429179929708, 1.0796116513841063, 1.0793516659132025, 0.5767271222960739, 0.5765245841572061, 0.5764220914803388, 0.5762629810357972, 0.5758178367993995, 0.5757911248269582, 0.5756893787580163, 0.5756481494092482, 0.5755926515534617, 0.5754813240161443, 0.5754391821465785, 0.5754350758029889, 0.575377213688772, 0.575365807178801, 0.5753626133560091, 0.5753600002282703, 0.5753592536203449, 0.5753436992885662, 0.5753375190340728, 0.33394217080028454, 0.33393438049160906, 0.33393218841341027, 0.3339318174463305, 0.3339289171582522, 0.33392861363973236, 0.3339210256767367, 0.3339208233310568, 0.3339197778783774, 0.33391660779605925, 0.3339359655327681, 0.333923993413375, 0.3340030094013696, 0.3339388320965665, 0.33393748312536725, 0.33394689219948187, 0.3339419347303247, 0.3339382250595268, 0.3339228130635757, 0.3339370447097275, 0.6261795480053267, 0.9185215042025888, 0.33393778664388707, 0.3339364376726879, 0.33392250954505587, 0.33400189650013024, 0.3339758950802652, 0.33398449477166026, 0.33398516925725985, 0.0418198355453263, 0.3339407543805254, 0.33431165401175233, 0.3341706190728733, 0.3341024623030325], \"Total\": [8.0, 12.0, 10.0, 13.0, 18.0, 9.0, 7.0, 20.0, 8.0, 9.0, 4.0, 4.0, 4.0, 14.0, 11.0, 10.0, 14.0, 6.0, 5.0, 6.0, 4.0, 14.0, 10.0, 4.0, 5.0, 15.0, 18.0, 6.0, 5.0, 8.0, 13.07582642316536, 4.771057302283019, 9.418580389366424, 3.1101074488587193, 3.1099038855786376, 3.1095802881787207, 5.274348957149204, 8.49820673405366, 2.2797485678999068, 2.2797016375505192, 2.2796519797652994, 2.2796404693015586, 2.2796342358189507, 2.279644351635554, 2.279638877086414, 2.279648800203366, 2.279642533737339, 2.2796329828929722, 2.279635468333908, 2.278338854323107, 2.278961421514067, 4.452201720562023, 5.5684814990306535, 2.269583070041434, 2.2684883286804514, 2.2676730598458996, 3.613494126127171, 3.6124754765650327, 3.7780592367231955, 5.111897238730102, 8.010379134087092, 9.899592655638763, 18.044262719679956, 4.705117062429232, 15.49757973549343, 10.242956354298595, 5.899188999665265, 3.913426936984726, 5.433100686982509, 4.720977043751253, 4.7205829209075745, 10.98337138375547, 13.505150638842773, 11.269762059841334, 4.635417930011852, 17.062269782498838, 12.99967674013742, 18.0263607251018, 20.21199693894953, 14.097724664810215, 5.22398020812019, 7.0802886961764395, 5.681135737516453, 14.578009606123087, 3.02949480443112, 2.225888103255594, 2.225875461222043, 2.2258716639653193, 2.225895285226874, 2.2258838058672024, 2.225899449386738, 2.225956224765656, 2.2259502296124305, 2.2260691685408873, 4.554857391749058, 4.555085734434817, 1.4223191666310762, 1.4223174839955839, 1.4223070034588592, 1.4223044810983843, 1.4223002650503056, 1.4223130552982892, 1.42231172254707, 1.4222983721566083, 1.422297154481505, 1.4222969849508202, 1.4223003359373065, 1.4222974267444148, 1.4222927402309087, 1.4223200230231812, 1.4222999723829646, 1.422292189792432, 1.4222921745288313, 1.4222932327469735, 5.175228264141904, 6.474112782134806, 5.22304236020254, 14.677000486888764, 4.689921363059715, 12.787960774577922, 3.056343757657778, 3.24945895822075, 3.0596088536864547, 8.064129475713347, 8.165321581441866, 10.98395069699617, 20.21199693894953, 5.654142187306939, 11.269762059841334, 5.864694003352658, 6.141172475472811, 17.062269782498838, 18.0263607251018, 13.505150638842773, 14.578009606123087, 15.49757973549343, 7.096688625615177, 8.010379134087092, 12.99967674013742, 14.097724664810215, 18.044262719679956, 5.866561200260723, 4.391861766179028, 4.39218676971168, 2.784702323955512, 2.062422872067456, 2.062598655102448, 2.0625841782410737, 2.062654720037765, 2.062602795906476, 2.062633121407042, 1.340604335383503, 1.3406006817359952, 1.3405921826694962, 1.3405889374926625, 1.340558741233435, 1.3406423315528748, 1.3406353493660654, 1.340640580960922, 1.3406468840659387, 1.340659913125907, 1.340664815919569, 1.3406537304041883, 1.3406609304276431, 1.3406703873584505, 1.3406637068607854, 1.3406688071116868, 1.340658662855623, 1.3406685843522468, 1.340674456987648, 1.3406849424366214, 1.3406738172203605, 1.3406896159129882, 1.3406882446640385, 2.5742407402245555, 2.574532407998561, 8.165321581441866, 5.653299534088509, 2.730396562425534, 2.73052491528709, 4.391861766179028, 4.420990220686046, 2.86619088588718, 2.866361426687065, 4.622071112348564, 2.8936770616225953, 10.98395069699617, 7.096688625615177, 20.21199693894953, 8.064129475713347, 14.097724664810215, 5.864694003352658, 12.99967674013742, 14.677000486888764, 17.062269782498838, 18.0263607251018, 5.79153649158784, 14.578009606123087, 10.98337138375547, 13.505150638842773, 8.634260194427728, 1.9547163556651852, 1.9547236238619308, 1.2868004692671031, 1.2868005257734048, 1.2868005374341904, 1.2868007731483677, 1.2868009279013786, 1.286801382338964, 1.2868014299306203, 1.2868014494277538, 1.2868015017961683, 1.2868014908187764, 1.2868016505483637, 1.286801901358975, 1.2868020755805354, 1.286802229090644, 1.286802566738617, 1.286802566738617, 1.2868026795355487, 1.2867754656924022, 1.2867735292030562, 1.2867726976537899, 1.2867711652429503, 1.2867700006106673, 1.2867697698304568, 1.286770879964942, 1.2867695767899088, 1.2867702712241826, 1.286770864543398, 6.104403457578327, 4.916892518999864, 4.916903755695287, 4.916895883523739, 9.899592655638763, 18.044262719679956, 12.787960774577922, 15.49757973549343, 4.39218676971168, 4.419224187832174, 10.242956354298595, 10.98337138375547, 14.578009606123087, 5.866561200260723, 17.062269782498838, 18.0263607251018, 6.67192759784601, 7.0802886961764395, 14.097724664810215, 3.7780592367231955, 7.096688625615177, 2.1171440790245457, 2.1171628202342188, 3.6166612714918003, 2.9475923988082924, 2.117091984394861, 6.180649909568596, 1.64240900490602, 1.1305930227887078, 1.1305930692713824, 1.1305943477907276, 1.1305941866161084, 1.1305944188175168, 1.1305941759908151, 1.1305941869250604, 1.1305966839311385, 1.1305957938898146, 1.130599388399557, 1.1305980414282553, 1.1305772872967894, 1.1305768879351024, 1.1305770294126618, 1.1305766524829777, 1.1305765528691538, 1.1305765303177484, 1.1305768240944447, 1.1305750960171645, 1.1305767979948238, 1.1305773593458714, 1.1305767318763578, 1.1305758473960792, 1.1305751942350297, 1.1305758618122892, 1.1305760011151675, 1.1305750736527784, 1.1305763788548648, 1.1305747223613485, 2.3643069138866473, 4.456002643738231, 3.24945895822075, 14.578009606123087, 20.21199693894953, 14.097724664810215, 10.242956354298595, 10.98337138375547, 12.99967674013742, 14.677000486888764, 18.044262719679956, 15.49757973549343, 5.79153649158784, 6.104403457578327, 17.062269782498838, 1.8525282843947497, 8.064129475713347, 1.7985679628618614, 5.653299534088509, 1.852555739193152, 2.6858574121472074, 1.9609638728073697, 5.175228264141904, 1.9610267882850527, 1.1222007402583485, 1.122200813588084, 1.122200815041959, 1.1222009240362476, 1.1221728096832557, 1.1221694399372693, 1.1221671092113088, 1.1221693896024048, 1.1221689057950937, 1.1222010074719202, 1.1221671963726791, 1.122164546432802, 1.1221661477728408, 1.1222011088998296, 1.1221687964690772, 1.1221675373679991, 1.1221697220656373, 1.1222011995787182, 1.1221614501351855, 1.1221683814792904, 1.1221581717615374, 1.1221616751887464, 1.122154042766637, 2.4290976644582707, 1.414472300967934, 1.414463663192078, 3.2864445603873684, 1.7902077583983829, 1.8440168221640312, 1.8440105610245854, 10.98395069699617, 4.622071112348564, 18.0263607251018, 5.853877181047626, 6.474112782134806, 10.98337138375547, 11.269762059841334, 13.505150638842773, 15.49757973549343, 20.21199693894953, 12.99967674013742, 12.787960774577922, 17.062269782498838, 14.097724664810215, 14.578009606123087, 7.0802886961764395, 14.677000486888764, 9.899592655638763, 8.49820673405366, 3.3423452006971415, 5.111897238730102, 5.274348957149204, 1.9257014960855625, 4.916903755695287, 6.180649909568596, 5.899188999665265, 3.613494126127171, 9.418580389366424, 0.9110519690168881, 0.9110575291792851, 0.9110591455127097, 0.9110593917079143, 0.9110614949297089, 0.9110617096890976, 0.9110671925495732, 0.91106734034003, 0.911068101618554, 0.9110703416585798, 1.414463663192078, 1.414472300967934, 1.6328935070011474, 1.6329596903426196, 1.6329950487030729, 1.7145888118586217, 1.7414300082593148, 1.7414340286005947, 1.7414782356111025, 2.5449644183333406, 7.0802886961764395, 12.787960774577922, 4.916892518999864, 4.916895883523739, 4.916903755695287, 5.00927870830417, 5.681135737516453, 5.853877181047626, 6.180649909568596, 1.122154042766637, 9.899592655638763, 18.0263607251018, 13.505150638842773, 11.269762059841334], \"Category\": [\"Default\", \"Default\", \"Default\", \"Default\", \"Default\", \"Default\", \"Default\", \"Default\", \"Default\", \"Default\", \"Default\", \"Default\", \"Default\", \"Default\", \"Default\", \"Default\", \"Default\", \"Default\", \"Default\", \"Default\", \"Default\", \"Default\", \"Default\", \"Default\", \"Default\", \"Default\", \"Default\", \"Default\", \"Default\", \"Default\", \"Topic1\", \"Topic1\", \"Topic1\", \"Topic1\", \"Topic1\", \"Topic1\", \"Topic1\", \"Topic1\", \"Topic1\", \"Topic1\", \"Topic1\", \"Topic1\", \"Topic1\", \"Topic1\", \"Topic1\", \"Topic1\", \"Topic1\", \"Topic1\", \"Topic1\", \"Topic1\", \"Topic1\", \"Topic1\", \"Topic1\", \"Topic1\", \"Topic1\", \"Topic1\", \"Topic1\", \"Topic1\", \"Topic1\", \"Topic1\", \"Topic1\", \"Topic1\", \"Topic1\", \"Topic1\", \"Topic1\", \"Topic1\", \"Topic1\", \"Topic1\", \"Topic1\", \"Topic1\", \"Topic1\", \"Topic1\", \"Topic1\", \"Topic1\", \"Topic1\", \"Topic1\", \"Topic1\", \"Topic1\", \"Topic1\", \"Topic1\", \"Topic1\", \"Topic1\", \"Topic1\", \"Topic1\", \"Topic2\", \"Topic2\", \"Topic2\", \"Topic2\", \"Topic2\", \"Topic2\", \"Topic2\", \"Topic2\", \"Topic2\", \"Topic2\", \"Topic2\", \"Topic2\", \"Topic2\", \"Topic2\", \"Topic2\", \"Topic2\", \"Topic2\", \"Topic2\", \"Topic2\", \"Topic2\", \"Topic2\", \"Topic2\", \"Topic2\", \"Topic2\", \"Topic2\", \"Topic2\", \"Topic2\", \"Topic2\", \"Topic2\", \"Topic2\", \"Topic2\", \"Topic2\", \"Topic2\", \"Topic2\", \"Topic2\", \"Topic2\", \"Topic2\", \"Topic2\", \"Topic2\", \"Topic2\", \"Topic2\", \"Topic2\", \"Topic2\", \"Topic2\", \"Topic2\", \"Topic2\", \"Topic2\", \"Topic2\", \"Topic2\", \"Topic2\", \"Topic2\", \"Topic2\", \"Topic2\", \"Topic2\", \"Topic2\", \"Topic2\", \"Topic2\", \"Topic2\", \"Topic2\", \"Topic2\", \"Topic3\", \"Topic3\", \"Topic3\", \"Topic3\", \"Topic3\", \"Topic3\", \"Topic3\", \"Topic3\", \"Topic3\", \"Topic3\", \"Topic3\", \"Topic3\", \"Topic3\", \"Topic3\", \"Topic3\", \"Topic3\", \"Topic3\", \"Topic3\", \"Topic3\", \"Topic3\", \"Topic3\", \"Topic3\", \"Topic3\", \"Topic3\", \"Topic3\", \"Topic3\", \"Topic3\", \"Topic3\", \"Topic3\", \"Topic3\", \"Topic3\", \"Topic3\", \"Topic3\", \"Topic3\", \"Topic3\", \"Topic3\", \"Topic3\", \"Topic3\", \"Topic3\", \"Topic3\", \"Topic3\", \"Topic3\", \"Topic3\", \"Topic3\", \"Topic3\", \"Topic3\", \"Topic3\", \"Topic3\", \"Topic3\", \"Topic3\", \"Topic3\", \"Topic3\", \"Topic3\", \"Topic3\", \"Topic3\", \"Topic3\", \"Topic4\", \"Topic4\", \"Topic4\", \"Topic4\", \"Topic4\", \"Topic4\", \"Topic4\", \"Topic4\", \"Topic4\", \"Topic4\", \"Topic4\", \"Topic4\", \"Topic4\", \"Topic4\", \"Topic4\", \"Topic4\", \"Topic4\", \"Topic4\", \"Topic4\", \"Topic4\", \"Topic4\", \"Topic4\", \"Topic4\", \"Topic4\", \"Topic4\", \"Topic4\", \"Topic4\", \"Topic4\", \"Topic4\", \"Topic4\", \"Topic4\", \"Topic4\", \"Topic4\", \"Topic4\", \"Topic4\", \"Topic4\", \"Topic4\", \"Topic4\", \"Topic4\", \"Topic4\", \"Topic4\", \"Topic4\", \"Topic4\", \"Topic4\", \"Topic4\", \"Topic4\", \"Topic4\", \"Topic4\", \"Topic4\", \"Topic4\", \"Topic4\", \"Topic4\", \"Topic4\", \"Topic4\", \"Topic4\", \"Topic4\", \"Topic4\", \"Topic5\", \"Topic5\", \"Topic5\", \"Topic5\", \"Topic5\", \"Topic5\", \"Topic5\", \"Topic5\", \"Topic5\", \"Topic5\", \"Topic5\", \"Topic5\", \"Topic5\", \"Topic5\", \"Topic5\", \"Topic5\", \"Topic5\", \"Topic5\", \"Topic5\", \"Topic5\", \"Topic5\", \"Topic5\", \"Topic5\", \"Topic5\", \"Topic5\", \"Topic5\", \"Topic5\", \"Topic5\", \"Topic5\", \"Topic5\", \"Topic5\", \"Topic5\", \"Topic5\", \"Topic5\", \"Topic5\", \"Topic5\", \"Topic5\", \"Topic5\", \"Topic5\", \"Topic5\", \"Topic5\", \"Topic5\", \"Topic5\", \"Topic5\", \"Topic5\", \"Topic5\", \"Topic5\", \"Topic5\", \"Topic5\", \"Topic5\", \"Topic5\", \"Topic5\", \"Topic5\", \"Topic5\", \"Topic6\", \"Topic6\", \"Topic6\", \"Topic6\", \"Topic6\", \"Topic6\", \"Topic6\", \"Topic6\", \"Topic6\", \"Topic6\", \"Topic6\", \"Topic6\", \"Topic6\", \"Topic6\", \"Topic6\", \"Topic6\", \"Topic6\", \"Topic6\", \"Topic6\", \"Topic6\", \"Topic6\", \"Topic6\", \"Topic6\", \"Topic6\", \"Topic6\", \"Topic6\", \"Topic6\", \"Topic6\", \"Topic6\", \"Topic6\", \"Topic6\", \"Topic6\", \"Topic6\", \"Topic6\", \"Topic6\", \"Topic6\", \"Topic6\", \"Topic6\", \"Topic6\", \"Topic6\", \"Topic6\", \"Topic6\", \"Topic6\", \"Topic6\", \"Topic6\", \"Topic6\", \"Topic6\", \"Topic6\", \"Topic6\", \"Topic6\", \"Topic6\", \"Topic6\", \"Topic6\", \"Topic6\", \"Topic6\", \"Topic6\", \"Topic6\", \"Topic6\", \"Topic7\", \"Topic7\", \"Topic7\", \"Topic7\", \"Topic7\", \"Topic7\", \"Topic7\", \"Topic7\", \"Topic7\", \"Topic7\", \"Topic7\", \"Topic7\", \"Topic7\", \"Topic7\", \"Topic7\", \"Topic7\", \"Topic7\", \"Topic7\", \"Topic7\", \"Topic7\", \"Topic7\", \"Topic7\", \"Topic7\", \"Topic7\", \"Topic7\", \"Topic7\", \"Topic7\", \"Topic7\", \"Topic7\", \"Topic7\", \"Topic7\", \"Topic7\", \"Topic7\", \"Topic7\"], \"logprob\": [30.0, 29.0, 28.0, 27.0, 26.0, 25.0, 24.0, 23.0, 22.0, 21.0, 20.0, 19.0, 18.0, 17.0, 16.0, 15.0, 14.0, 13.0, 12.0, 11.0, 10.0, 9.0, 8.0, 7.0, 6.0, 5.0, 4.0, 3.0, 2.0, 1.0, -3.5820999145507812, -4.6620001792907715, -3.9904000759124756, -5.154600143432617, -5.155799865722656, -5.156000137329102, -4.662099838256836, -4.190700054168701, -5.537300109863281, -5.537399768829346, -5.537600040435791, -5.537600040435791, -5.537600040435791, -5.537600040435791, -5.537600040435791, -5.537600040435791, -5.537600040435791, -5.537600040435791, -5.537600040435791, -5.543099880218506, -5.5447001457214355, -4.8790998458862305, -4.672900199890137, -5.581600189208984, -5.58650016784668, -5.590199947357178, -5.154600143432617, -5.15749979019165, -5.154699802398682, -4.878300189971924, -4.486599922180176, -4.333700180053711, -3.8304998874664307, -4.968800067901611, -4.0868000984191895, -4.443999767303467, -4.853000164031982, -5.15500020980835, -4.953999996185303, -5.1132001876831055, -5.1143999099731445, -4.640100002288818, -4.5295000076293945, -4.646999835968018, -5.1545000076293945, -4.467800140380859, -4.637599945068359, -4.632400035858154, -4.605100154876709, -4.772200107574463, -5.114099979400635, -5.09499979019165, -5.11329984664917, -5.1082000732421875, -4.929999828338623, -5.313000202178955, -5.313000202178955, -5.313000202178955, -5.313000202178955, -5.3130998611450195, -5.3130998611450195, -5.313199996948242, -5.313300132751465, -5.315000057220459, -4.65369987487793, -4.65369987487793, -5.9415998458862305, -5.9415998458862305, -5.9415998458862305, -5.9415998458862305, -5.9415998458862305, -5.9415998458862305, -5.9415998458862305, -5.9415998458862305, -5.9415998458862305, -5.9415998458862305, -5.9415998458862305, -5.9415998458862305, -5.9415998458862305, -5.9415998458862305, -5.9415998458862305, -5.9415998458862305, -5.9415998458862305, -5.9415998458862305, -4.653800010681152, -4.439899921417236, -4.654900074005127, -3.866499900817871, -4.929999828338623, -4.113399982452393, -5.313000202178955, -5.313000202178955, -5.3703999519348145, -4.653800010681152, -4.653800010681152, -4.443399906158447, -3.998699903488159, -4.932199954986572, -4.452700138092041, -4.933000087738037, -4.929999828338623, -4.259900093078613, -4.2708001136779785, -4.454699993133545, -4.457200050354004, -4.653600215911865, -4.929999828338623, -4.929999828338623, -4.929900169372559, -4.968100070953369, -4.929599761962891, -5.312900066375732, -5.312900066375732, -5.312900066375732, -4.59060001373291, -4.972499847412109, -4.973100185394287, -4.973100185394287, -4.973100185394287, -4.973199844360352, -4.973199844360352, -5.60099983215332, -5.60099983215332, -5.601099967956543, -5.601099967956543, -5.601099967956543, -5.601399898529053, -5.601399898529053, -5.601500034332275, -5.601500034332275, -5.601500034332275, -5.601500034332275, -5.601600170135498, -5.601600170135498, -5.601600170135498, -5.601600170135498, -5.6016998291015625, -5.6016998291015625, -5.6016998291015625, -5.6016998291015625, -5.6016998291015625, -5.6016998291015625, -5.601799964904785, -5.601799964904785, -4.972599983215332, -4.973899841308594, -3.920799970626831, -4.316299915313721, -4.972499847412109, -4.973100185394287, -4.59060001373291, -4.597499847412109, -4.973400115966797, -4.974299907684326, -4.591100215911865, -4.976099967956543, -3.9219000339508057, -4.313300132751465, -3.6540000438690186, -4.316699981689453, -3.9772000312805176, -4.593900203704834, -4.121799945831299, -4.147900104522705, -4.116799831390381, -4.113900184631348, -4.768599987030029, -4.32480001449585, -4.627600193023682, -4.817200183868408, -3.0827999114990234, -4.817299842834473, -4.817299842834473, -5.445700168609619, -5.445700168609619, -5.445700168609619, -5.445700168609619, -5.445700168609619, -5.445700168609619, -5.445700168609619, -5.445700168609619, -5.445700168609619, -5.445700168609619, -5.445700168609619, -5.445700168609619, -5.445700168609619, -5.445700168609619, -5.445700168609619, -5.445700168609619, -5.445799827575684, -5.445799827575684, -5.445799827575684, -5.445799827575684, -5.445799827575684, -5.445799827575684, -5.445799827575684, -5.445799827575684, -5.445799827575684, -5.445799827575684, -5.445799827575684, -3.941800117492676, -4.157700061798096, -4.157700061798096, -4.157700061798096, -4.15749979019165, -3.941699981689453, -4.1579999923706055, -4.157800197601318, -4.817200183868408, -4.816999912261963, -4.434000015258789, -4.4344000816345215, -4.434000015258789, -4.816999912261963, -4.434199810028076, -4.434000015258789, -4.8171000480651855, -4.8171000480651855, -4.816999912261963, -5.445300102233887, -5.445400238037109, -5.445499897003174, -5.445499897003174, -5.445499897003174, -5.4456000328063965, -5.4456000328063965, -5.4456000328063965, -4.430200099945068, -5.058800220489502, -5.058800220489502, -5.058800220489502, -5.058800220489502, -5.058800220489502, -5.058800220489502, -5.058800220489502, -5.058899879455566, -5.058899879455566, -5.058899879455566, -5.058899879455566, -5.059000015258789, -5.059000015258789, -5.059000015258789, -5.059000015258789, -5.059000015258789, -5.059000015258789, -5.059000015258789, -5.059000015258789, -5.059000015258789, -5.059000015258789, -5.059000015258789, -5.059000015258789, -5.059000015258789, -5.059100151062012, -5.059100151062012, -5.059100151062012, -5.059100151062012, -5.059100151062012, -4.430200099945068, -4.047500133514404, -4.430500030517578, -3.770900011062622, -3.770900011062622, -4.047100067138672, -4.429900169372559, -4.4303998947143555, -4.4303998947143555, -4.429999828338623, -4.429900169372559, -5.058300018310547, -5.058599948883057, -5.058599948883057, -5.058700084686279, -5.058700084686279, -5.058700084686279, -5.058700084686279, -5.058700084686279, -5.058700084686279, -5.058800220489502, -5.058800220489502, -5.058800220489502, -5.058800220489502, -5.042399883270264, -5.042399883270264, -5.042399883270264, -5.042399883270264, -5.042399883270264, -5.042500019073486, -5.042500019073486, -5.042500019073486, -5.042500019073486, -5.042399883270264, -5.042500019073486, -5.042500019073486, -5.042500019073486, -5.042399883270264, -5.042500019073486, -5.042500019073486, -5.042500019073486, -5.042500019073486, -5.042500019073486, -5.042500019073486, -5.042500019073486, -5.042500019073486, -5.042500019073486, -4.413700103759766, -5.042300224304199, -5.042300224304199, -4.41379976272583, -5.042399883270264, -5.042399883270264, -5.042399883270264, -3.754499912261963, -4.41379976272583, -3.538100004196167, -4.413599967956543, -4.41349983215332, -4.412899971008301, -4.413000106811523, -4.412899971008301, -4.413099765777588, -5.039899826049805, -5.040200233459473, -5.04040002822876, -5.0406999588012695, -5.041399955749512, -5.041500091552734, -5.0416998863220215, -5.0416998863220215, -5.041800022125244, -5.041999816894531, -5.042099952697754, -5.042099952697754, -5.042200088500977, -5.042200088500977, -5.042200088500977, -5.042200088500977, -5.042200088500977, -5.042300224304199, -5.042300224304199, -4.686200141906738, -4.686200141906738, -4.686200141906738, -4.686200141906738, -4.686200141906738, -4.686200141906738, -4.686200141906738, -4.686200141906738, -4.686200141906738, -4.686200141906738, -4.686200141906738, -4.686200141906738, -4.685999870300293, -4.686200141906738, -4.686200141906738, -4.686100006103516, -4.686200141906738, -4.686200141906738, -4.686200141906738, -4.686200141906738, -4.057499885559082, -3.6744000911712646, -4.686200141906738, -4.686200141906738, -4.686200141906738, -4.685999870300293, -4.686100006103516, -4.685999870300293, -4.685999870300293, -6.763800144195557, -4.686200141906738, -4.684999942779541, -4.685500144958496, -4.685699939727783], \"loglift\": [30.0, 29.0, 28.0, 27.0, 26.0, 25.0, 24.0, 23.0, 22.0, 21.0, 20.0, 19.0, 18.0, 17.0, 16.0, 15.0, 14.0, 13.0, 12.0, 11.0, 10.0, 9.0, 8.0, 7.0, 6.0, 5.0, 4.0, 3.0, 2.0, 1.0, 1.1049, 1.0331, 1.0246, 0.9685, 0.9673, 0.9672, 0.9327, 0.9272, 0.8964, 0.8963, 0.8961, 0.8961, 0.8961, 0.8961, 0.8961, 0.8961, 0.8961, 0.8961, 0.8961, 0.8911, 0.8893, 0.8852, 0.8676, 0.8565, 0.8521, 0.8488, 0.8184, 0.8158, 0.7738, 0.7479, 0.6904, 0.6315, 0.5344, 0.7403, 0.4303, 0.4871, 0.6299, 0.7383, 0.6112, 0.5925, 0.5914, 0.2212, 0.1252, 0.1886, 0.5695, -0.047, 0.0552, -0.2665, -0.3536, -0.1605, 0.4903, 0.2054, 0.4072, -0.53, 1.2193, 1.1446, 1.1445, 1.1445, 1.1445, 1.1445, 1.1444, 1.1443, 1.1442, 1.1424, 1.0878, 1.0878, 0.9638, 0.9638, 0.9638, 0.9638, 0.9638, 0.9638, 0.9638, 0.9638, 0.9638, 0.9638, 0.9638, 0.9638, 0.9638, 0.9638, 0.9638, 0.9638, 0.9638, 0.9638, 0.9601, 0.95, 0.9497, 0.7049, 0.7823, 0.5958, 0.8275, 0.7662, 0.769, 0.5165, 0.504, 0.4179, 0.2527, 0.5931, 0.3829, 0.5558, 0.5127, 0.161, 0.095, 0.1999, 0.121, -0.1366, 0.3681, 0.247, -0.2371, -0.3564, -0.5648, 0.1755, 0.465, 0.465, 1.6429, 1.5614, 1.5606, 1.5606, 1.5606, 1.5606, 1.5605, 1.3635, 1.3635, 1.3635, 1.3635, 1.3635, 1.3632, 1.3631, 1.3631, 1.3631, 1.363, 1.363, 1.363, 1.363, 1.3629, 1.3629, 1.3629, 1.3629, 1.3628, 1.3628, 1.3628, 1.3628, 1.3627, 1.3627, 1.3396, 1.3382, 1.237, 1.2092, 1.2808, 1.2801, 1.1873, 1.1738, 1.2314, 1.2304, 1.1357, 1.219, 0.9393, 0.9847, 0.5975, 0.8536, 0.6345, 0.8949, 0.571, 0.4235, 0.304, 0.252, 0.7327, 0.2533, 0.2337, -0.1625, 2.0192, 1.7702, 1.7702, 1.5598, 1.5598, 1.5598, 1.5598, 1.5598, 1.5598, 1.5598, 1.5598, 1.5598, 1.5598, 1.5598, 1.5598, 1.5598, 1.5598, 1.5598, 1.5598, 1.5598, 1.5598, 1.5598, 1.5598, 1.5598, 1.5598, 1.5598, 1.5598, 1.5598, 1.5598, 1.5598, 1.5069, 1.5073, 1.5073, 1.5073, 0.8077, 0.4232, 0.5512, 0.3592, 0.9607, 0.9547, 0.4971, 0.427, 0.1442, 0.6714, -0.0134, -0.0682, 0.5427, 0.4833, -0.2053, 0.4832, -0.1473, 1.0622, 1.0621, 0.5266, 0.7312, 1.062, -0.0094, 2.3313, 2.0761, 2.0761, 2.0761, 2.0761, 2.0761, 2.0761, 2.0761, 2.0761, 2.0761, 2.0761, 2.0761, 2.076, 2.076, 2.076, 2.076, 2.076, 2.076, 2.076, 2.076, 2.076, 2.076, 2.076, 2.076, 2.0759, 2.0759, 2.0759, 2.0759, 2.0759, 2.0758, 1.967, 1.716, 1.6487, 0.8073, 0.4805, 0.5646, 0.5012, 0.431, 0.2624, 0.1414, -0.065, -0.5413, 0.4427, 0.3901, -0.6378, 1.5824, 0.1116, 1.612, 0.4667, 1.5824, 1.2109, 1.5255, 0.555, 1.5254, 2.1, 2.1, 2.1, 2.1, 2.1, 2.1, 2.1, 2.1, 2.1, 2.1, 2.1, 2.1, 2.1, 2.1, 2.1, 2.1, 2.1, 2.1, 2.1, 2.1, 2.1, 2.0999, 2.0999, 1.9564, 1.8687, 1.8687, 1.6541, 1.633, 1.6034, 1.6033, 1.1067, 1.3131, 0.8277, 1.077, 0.9763, 0.4484, 0.4226, 0.2418, 0.1039, -0.7884, -0.3474, -0.3312, -0.6198, -0.4297, -0.4633, 0.2587, -0.4703, -0.0766, 0.0758, 1.0089, 0.584, 0.5527, 1.5602, 0.6228, 0.3941, 0.4407, 0.9308, -0.0272, 2.6647, 2.6647, 2.6647, 2.6647, 2.6647, 2.6647, 2.6646, 2.6646, 2.6646, 2.6646, 2.2248, 2.2247, 2.0814, 2.0811, 2.0811, 2.0324, 2.0168, 2.0168, 2.0168, 1.6374, 1.2429, 1.0348, 0.9789, 0.9789, 0.9788, 0.9604, 0.8345, 0.8046, 0.7503, 0.3787, 0.2791, -0.3192, -0.0308, 0.1499]}, \"token.table\": {\"Topic\": [2, 3, 5, 1, 3, 1, 1, 2, 1, 4, 6, 6, 2, 1, 2, 3, 5, 4, 2, 3, 2, 6, 1, 3, 4, 6, 5, 2, 2, 3, 6, 3, 4, 5, 1, 4, 2, 6, 2, 1, 6, 4, 1, 2, 4, 5, 2, 1, 2, 3, 4, 5, 4, 1, 4, 6, 5, 6, 1, 2, 1, 6, 1, 1, 2, 3, 1, 2, 4, 5, 1, 2, 3, 4, 6, 7, 2, 5, 1, 2, 6, 6, 2, 3, 4, 5, 4, 1, 1, 6, 1, 2, 3, 4, 5, 6, 3, 5, 1, 2, 4, 6, 1, 4, 2, 2, 4, 2, 2, 2, 1, 2, 3, 4, 5, 6, 1, 2, 4, 6, 4, 2, 3, 4, 2, 3, 4, 1, 2, 4, 5, 6, 1, 2, 4, 5, 4, 1, 2, 6, 3, 2, 6, 1, 2, 5, 6, 3, 1, 3, 5, 2, 5, 1, 4, 3, 5, 5, 2, 3, 1, 2, 4, 2, 4, 5, 1, 2, 3, 4, 6, 4, 4, 5, 3, 5, 1, 2, 3, 4, 6, 3, 5, 1, 4, 6, 1, 3, 4, 2, 1, 3, 6, 4, 4, 1, 2, 3, 4, 5, 6, 2, 3, 4, 5, 1, 1, 2, 4, 5, 5, 2, 1, 2, 4, 5, 6, 1, 2, 3, 1, 2, 6, 3, 5, 4, 4, 1, 4, 1, 4, 6, 1, 2, 3, 5, 1, 4, 1, 2, 3, 4, 4, 2, 2, 1, 4, 6, 1, 2, 6, 6, 6, 5, 1, 3, 6, 1, 3, 4, 5, 6, 1, 2, 3, 1, 2, 1, 2, 3, 4, 5, 6, 3, 6, 5, 1, 6, 1, 2, 3, 2, 6, 3, 2, 5, 1, 5, 4, 3, 6, 1, 3, 1, 3, 6, 3, 6, 5, 4, 4, 1, 2, 3, 5, 1, 2, 4, 5, 3, 1, 2, 1, 2, 5, 3, 4, 1, 6, 1, 3, 6, 1, 2, 5, 1, 5, 2, 2, 3, 1, 2, 1, 5, 1, 6, 1, 6, 1, 4, 1, 2, 3, 4, 5, 6, 5, 6, 1, 2, 4, 6, 7, 6, 4, 1, 2, 3, 3, 4, 1, 1, 2, 6, 3, 5, 5, 1, 1, 4, 6, 1, 1, 2, 3, 4, 5, 6, 2, 3, 3, 2, 3, 3, 6, 3, 4, 5, 4, 4, 6, 5, 1, 2, 4, 4, 1, 3, 1, 2, 3, 5, 6, 2, 1, 6, 3, 5, 5, 5, 4, 3, 6, 5, 3, 3, 3, 2, 5, 2, 3, 3, 6, 3, 6, 3, 5, 1, 1, 4, 2, 3, 1, 2, 2, 3, 4, 3, 1, 1, 1, 2, 3, 5, 3, 5, 2, 3, 3, 2, 6, 3, 3, 1, 2, 3, 4, 5, 4], \"Freq\": [0.367407452367632, 0.48987660315684267, 0.884505008932555, 0.964660037858955, 0.7459085698742547, 0.9942010225043195, 0.32683916403076235, 0.6536783280615247, 0.5868662572617089, 0.195622085753903, 0.195622085753903, 0.8911060208391876, 0.7030864189318216, 0.17688785000160648, 0.17688785000160648, 0.5306635500048195, 0.17688785000160648, 0.7771391376310368, 0.658637525169148, 0.21954584172304933, 0.7030830879466491, 0.7069774355536637, 0.2991911187962935, 0.2991911187962935, 0.2991911187962935, 0.2991911187962935, 0.8845045931464421, 0.7030863838902158, 0.36416769433368795, 0.36416769433368795, 0.18208384716684398, 0.9696573943981069, 0.5559978942407109, 0.5559978942407109, 0.8812191218731147, 0.7771396593994468, 0.8985194980655343, 0.8911061085427628, 0.7030770754278824, 0.8302213578565589, 0.276740452618853, 0.7771206348486231, 0.6355147341471173, 0.42367648943141156, 0.7771375283258546, 0.8845042652330978, 0.7030904183461982, 0.5541927733679864, 0.16625783201039593, 0.05541927733679864, 0.16625783201039593, 0.05541927733679864, 0.7771209814332997, 0.6060855439928053, 0.30304277199640267, 0.10101425733213422, 0.8844915719835343, 0.891105954585433, 0.624190180802201, 0.3745141084813206, 0.84938490401717, 0.10617311300214625, 0.881644386137694, 0.6376036898115162, 0.21253456327050538, 0.7458873955745, 0.2276770211357938, 0.4553540422715876, 0.2276770211357938, 0.884488707788309, 0.423711536172259, 0.14123717872408634, 0.14123717872408634, 0.14123717872408634, 0.14123717872408634, 0.14123717872408634, 0.8985148642318771, 0.8845041948685247, 0.877307787587918, 0.4116755018259081, 0.4116755018259081, 0.8911310221172137, 0.42273236973813894, 0.42273236973813894, 0.14091078991271297, 0.14091078991271297, 0.7771212584104432, 0.9647604248729973, 0.8304554645316478, 0.27681848817721594, 0.20578941028684283, 0.2743858803824571, 0.20578941028684283, 0.13719294019122855, 0.13719294019122855, 0.06859647009561427, 0.7769281127240402, 0.3884640563620201, 0.4853858483968715, 0.3235905655979143, 0.16179528279895716, 0.16179528279895716, 0.8773313278706464, 0.7771212242853031, 0.8985228665497603, 0.9902641178364198, 0.7771205450147312, 0.7030873546481784, 0.8984926856824774, 0.7030878219958271, 0.3076999590035741, 0.23077496925268057, 0.3076999590035741, 0.07692498975089353, 0.07692498975089353, 0.07692498975089353, 0.3416539052912064, 0.3416539052912064, 0.1708269526456032, 0.1708269526456032, 0.7771199235930518, 0.5529962166390662, 0.2764981083195331, 0.2764981083195331, 0.5115356399302327, 0.34102375995348844, 0.17051187997674422, 0.516209636378121, 0.19357861364179538, 0.19357861364179538, 0.06452620454726513, 0.06452620454726513, 0.22441638390974553, 0.22441638390974553, 0.22441638390974553, 0.44883276781949105, 0.7771207069908044, 0.7183286863207339, 0.17958217158018347, 0.8911325329776172, 0.7459111028082288, 0.703080755187199, 0.8911061073882843, 0.3929328020447866, 0.3929328020447866, 0.8845044570066668, 0.7069817528880588, 0.7459149876011112, 0.3723205839138536, 0.3723205839138536, 0.3723205839138536, 0.7030800963788375, 0.8844906612511031, 0.7940584866535799, 0.26468616221785995, 0.7459007548471042, 0.8845038824289494, 0.6088617372487073, 0.8985177633479378, 0.7459390058568883, 0.45256812394962226, 0.22628406197481113, 0.22628406197481113, 0.703084334816792, 0.7771380305343197, 0.8845040841838995, 0.22189725707807342, 0.27737157134759177, 0.22189725707807342, 0.11094862853903671, 0.16642294280855507, 0.7771201956237509, 0.7771391283172688, 0.8844865920328953, 0.5398028242935659, 0.5398028242935659, 0.6471908348493465, 0.2157302782831155, 0.2157302782831155, 0.777121074891288, 0.8911371882592596, 0.4229569325904967, 0.4229569325904967, 0.6785198661825147, 0.33925993309125735, 0.8911314462874615, 0.5742393817832959, 0.7324943297699255, 0.36624716488496273, 0.7030904108008489, 0.6780593061566548, 0.1695148265391637, 0.1695148265391637, 0.5115812730724093, 0.7771203935461338, 0.2473778328337637, 0.2968533994005164, 0.2968533994005164, 0.04947556656675274, 0.09895113313350548, 0.04947556656675274, 0.5305844636759827, 0.3537229757839885, 0.17686148789199424, 0.17686148789199424, 0.8772897275432396, 0.1638161708919399, 0.1638161708919399, 0.4914485126758197, 0.1638161708919399, 0.8844894040862298, 0.8985243993973416, 0.35493207210235594, 0.35493207210235594, 0.08873301802558899, 0.08873301802558899, 0.08873301802558899, 0.6354616792663373, 0.42364111951089156, 0.9696242325828445, 0.15446131904891763, 0.6178452761956705, 0.15446131904891763, 0.6124098085468701, 0.8845038260615613, 0.5115831752784933, 0.7771206414780512, 0.8773337268649621, 0.7771202883309418, 0.20338002321922458, 0.6101400696576738, 0.20338002321922458, 0.17266575138609452, 0.34533150277218905, 0.34533150277218905, 0.17266575138609452, 0.4723302291362605, 0.4723302291362605, 0.1704576098099101, 0.3409152196198202, 0.1704576098099101, 0.1704576098099101, 0.7771389560250161, 0.8984902657780505, 0.7030901386993302, 0.20338034883979295, 0.6101410465193788, 0.20338034883979295, 0.7665915445227357, 0.25553051484091194, 0.8911399704287887, 0.8911328729843353, 0.8911061667717168, 0.8845048886705793, 0.21635322687449535, 0.4327064537489907, 0.21635322687449535, 0.36418690220345684, 0.18209345110172842, 0.18209345110172842, 0.09104672555086421, 0.09104672555086421, 0.5521708823081228, 0.18405696076937428, 0.18405696076937428, 0.8778325472547843, 0.703086563606248, 0.37022911729834945, 0.2961832938386796, 0.1480916469193398, 0.0740458234596699, 0.0740458234596699, 0.0740458234596699, 0.5422944020795092, 0.5422944020795092, 0.884504316960737, 0.8775927407631436, 0.8911373669800643, 0.3256707099479435, 0.48850606492191523, 0.16283535497397175, 0.7030880403888206, 0.8911058740445982, 0.7458954933511435, 0.7030779071848243, 0.8845049976540461, 0.5099533009592739, 0.5099533009592739, 0.7771206782494144, 0.7458985930902459, 0.8911432494014192, 0.8773298337370388, 0.7459322438442904, 0.8237031904566279, 0.11767188435094685, 0.11767188435094685, 0.542296243381801, 0.542296243381801, 0.8844906614928036, 0.7771399153644043, 0.7771212172431519, 0.12400594546648704, 0.3720178363994611, 0.3720178363994611, 0.12400594546648704, 0.48814032072895464, 0.19525612829158184, 0.19525612829158184, 0.09762806414579092, 0.7458963725384067, 0.5988886174424128, 0.3992590782949419, 0.8383885890630454, 0.8984446791969776, 0.884504474649717, 0.7458855583913834, 0.777136358798937, 0.6085603950563107, 0.3042801975281553, 0.3455810647506262, 0.6911621295012524, 0.8911318626548337, 0.19322819187103207, 0.5796845756130962, 0.19322819187103207, 0.673823916410799, 0.22460797213693298, 0.7030766520986409, 0.6586045082139891, 0.2195348360713297, 0.42644638260953605, 0.6396695739143041, 0.5099369401651647, 0.5099369401651647, 0.8773332525229212, 0.8911283461611049, 0.5742248048532687, 0.8911328037679452, 0.47233441025928696, 0.47233441025928696, 0.29304424696933434, 0.29304424696933434, 0.23443539757546747, 0.11721769878773373, 0.05860884939386687, 0.05860884939386687, 0.8845055199328166, 0.891105802039248, 0.23459565233918367, 0.46919130467836734, 0.23459565233918367, 0.07819855077972789, 0.07819855077972789, 0.8911310620888612, 0.7771199917128593, 0.8773305333626664, 0.7030879565842537, 0.9697332332215262, 0.745904760730807, 0.7771397987782684, 0.8773342090628539, 0.574274763778159, 0.3828498425187727, 0.19142492125938634, 0.5397948244383364, 0.5397948244383364, 0.8844905354020922, 0.8773268980320009, 0.2033804880085945, 0.6101414640257836, 0.2033804880085945, 0.5742407074973815, 0.28373372974041183, 0.14186686487020592, 0.28373372974041183, 0.07093343243510296, 0.14186686487020592, 0.07093343243510296, 0.45538773906812274, 0.45538773906812274, 0.7458847955043018, 0.34889511543836593, 0.6977902308767319, 0.7458932291787619, 0.8911349081370059, 0.7324598976566079, 0.36622994882830395, 0.8845058891033521, 0.7771206664747731, 0.5585943839806919, 0.5585943839806919, 0.8845055967735714, 0.5280634258021567, 0.35204228386810443, 0.17602114193405222, 0.7771199917128593, 0.8819613529897077, 0.7459342767937889, 0.1362676251040965, 0.4769366878643378, 0.272535250208193, 0.06813381255204826, 0.06813381255204826, 0.5832302141969512, 0.7583874393783016, 0.1895968598445754, 0.7768400948406775, 0.38842004742033875, 0.8844876457920676, 0.884490479836169, 0.7771394959635175, 0.7182096207536873, 0.8911307980750426, 0.8844915356189615, 0.7459120768097566, 0.7458964964731808, 0.7458992101319262, 0.6154870782227406, 0.3077435391113703, 0.8985131833115929, 0.6123717281287543, 0.7458935851177546, 0.8911315331049274, 0.612384987770387, 0.8911336364803879, 0.745901320841601, 0.8845056142703527, 0.8773319406432399, 0.4723460328464826, 0.4723460328464826, 0.3488743571168546, 0.6977487142337092, 0.32718832673663245, 0.6543766534732649, 0.5743778803822808, 0.19145929346076027, 0.19145929346076027, 0.7459408115587806, 0.87732812169207, 0.9645968987665927, 0.2261936693098635, 0.2261936693098635, 0.452387338619727, 0.8845042448141174, 0.9696343858939314, 0.8844906698052227, 0.7030898952311196, 0.9696486419824893, 0.9696505886166502, 0.5192912827002177, 0.5192912827002177, 0.7459576139721484, 0.7459020164536028, 0.2997634447720457, 0.2997634447720457, 0.2997634447720457, 0.14988172238602285, 0.8845043790739844, 0.9265414546069553], \"Term\": [\"\", \"\", \"!!!!\", \"+\", \"++\", \"-\", \"/\", \"/\", \"1\", \"1\", \"1\", \"1.15\", \"10\", \"2\", \"2\", \"2\", \"2\", \"21\", \"3\", \"3\", \"300\", \"399\", \"4\", \"4\", \"4\", \"4\", \"500\", \"6\", \":\", \":\", \":\", \"::\", \"CTW\", \"CTW\", \"Shabushi\", \"Terminal\", \"VAT\", \"net\", \"union\", \"\\u0e01\\u0e25\\u0e31\\u0e1a\\u0e21\\u0e32\", \"\\u0e01\\u0e25\\u0e31\\u0e1a\\u0e21\\u0e32\", \"\\u0e01\\u0e25\\u0e32\\u0e22\", \"\\u0e01\\u0e30\\u0e1b\\u0e34\", \"\\u0e01\\u0e30\\u0e1b\\u0e34\", \"\\u0e01\\u0e32\\u0e23\\u0e07\\u0e14\", \"\\u0e01\\u0e32\\u0e41\\u0e1f\", \"\\u0e01\\u0e33\", \"\\u0e01\\u0e34\\u0e19\", \"\\u0e01\\u0e34\\u0e19\", \"\\u0e01\\u0e34\\u0e19\", \"\\u0e01\\u0e34\\u0e19\", \"\\u0e01\\u0e34\\u0e19\", \"\\u0e01\\u0e35\\u0e48\", \"\\u0e01\\u0e38\\u0e49\\u0e07\", \"\\u0e01\\u0e38\\u0e49\\u0e07\", \"\\u0e01\\u0e38\\u0e49\\u0e07\", \"\\u0e02\\u0e19\\u0e21\", \"\\u0e02\\u0e2d\\u0e07\\u0e04\\u0e32\\u0e27\", \"\\u0e02\\u0e2d\\u0e07\\u0e2b\\u0e27\\u0e32\\u0e19\", \"\\u0e02\\u0e2d\\u0e07\\u0e2b\\u0e27\\u0e32\\u0e19\", \"\\u0e04\\u0e19\", \"\\u0e04\\u0e19\", \"\\u0e04\\u0e23\\u0e36\\u0e48\\u0e07\", \"\\u0e04\\u0e34\\u0e27\", \"\\u0e04\\u0e34\\u0e27\", \"\\u0e04\\u0e38\", \"\\u0e04\\u0e38\\u0e13\\u0e20\\u0e32\\u0e1e\", \"\\u0e04\\u0e38\\u0e13\\u0e20\\u0e32\\u0e1e\", \"\\u0e04\\u0e38\\u0e13\\u0e20\\u0e32\\u0e1e\", \"\\u0e04\\u0e38\\u0e13\\u0e20\\u0e32\\u0e1e\\u0e14\\u0e35\", \"\\u0e04\\u0e38\\u0e49\\u0e21\", \"\\u0e04\\u0e38\\u0e49\\u0e21\", \"\\u0e04\\u0e38\\u0e49\\u0e21\", \"\\u0e04\\u0e38\\u0e49\\u0e21\", \"\\u0e04\\u0e38\\u0e49\\u0e21\", \"\\u0e04\\u0e38\\u0e49\\u0e21\", \"\\u0e04\\u0e48\\u0e32\", \"\\u0e07\\u0e27\\u0e14\", \"\\u0e07\\u0e32\\u0e19\", \"\\u0e0a\\u0e21.\", \"\\u0e0a\\u0e21.\", \"\\u0e0a\\u0e2d\\u0e04\", \"\\u0e0a\\u0e2d\\u0e1a\", \"\\u0e0a\\u0e2d\\u0e1a\", \"\\u0e0a\\u0e2d\\u0e1a\", \"\\u0e0a\\u0e2d\\u0e1a\", \"\\u0e0a\\u0e31\\u0e48\\u0e27\\u0e04\\u0e23\\u0e32\\u0e27\", \"\\u0e0a\\u0e31\\u0e48\\u0e27\\u0e42\\u0e21\\u0e07\", \"\\u0e0a\\u0e31\\u0e49\\u0e19\", \"\\u0e0a\\u0e31\\u0e49\\u0e19\", \"\\u0e0a\\u0e32\\u0e1a\\u0e39\", \"\\u0e0a\\u0e32\\u0e1a\\u0e39\", \"\\u0e0a\\u0e32\\u0e1a\\u0e39\", \"\\u0e0a\\u0e32\\u0e1a\\u0e39\", \"\\u0e0a\\u0e32\\u0e1a\\u0e39\", \"\\u0e0a\\u0e32\\u0e1a\\u0e39\", \"\\u0e0a\\u0e32\\u0e40\\u0e02\\u0e35\\u0e22\\u0e27\", \"\\u0e0a\\u0e32\\u0e40\\u0e02\\u0e35\\u0e22\\u0e27\", \"\\u0e0a\\u0e34\", \"\\u0e0a\\u0e34\", \"\\u0e0a\\u0e34\", \"\\u0e0a\\u0e34\", \"\\u0e0a\\u0e37\\u0e48\\u0e19\", \"\\u0e0a\\u0e37\\u0e48\\u0e19\\u0e43\\u0e08\", \"\\u0e0a\\u0e37\\u0e48\\u0e2d\", \"\\u0e0a\\u0e38\\u0e14\", \"\\u0e0b\\u0e30\\u0e07\\u0e31\\u0e49\\u0e19\", \"\\u0e0b\\u0e35\", \"\\u0e0b\\u0e36\", \"\\u0e0b\\u0e36\\u0e1b\", \"\\u0e0b\\u0e38\\u0e1b\", \"\\u0e0b\\u0e38\\u0e1b\", \"\\u0e0b\\u0e38\\u0e1b\", \"\\u0e0b\\u0e38\\u0e1b\", \"\\u0e0b\\u0e38\\u0e1b\", \"\\u0e0b\\u0e38\\u0e1b\", \"\\u0e0b\\u0e39\\u0e0a\\u0e34\", \"\\u0e0b\\u0e39\\u0e0a\\u0e34\", \"\\u0e0b\\u0e39\\u0e0a\\u0e34\", \"\\u0e0b\\u0e39\\u0e0a\\u0e34\", \"\\u0e0d\\u0e35\\u0e48\", \"\\u0e0d\\u0e35\\u0e48\\u0e1b\\u0e38\\u0e48\\u0e19\", \"\\u0e0d\\u0e35\\u0e48\\u0e1b\\u0e38\\u0e48\\u0e19\", \"\\u0e0d\\u0e35\\u0e48\\u0e1b\\u0e38\\u0e48\\u0e19\", \"\\u0e14\\u0e33\", \"\\u0e14\\u0e33\", \"\\u0e14\\u0e33\", \"\\u0e14\\u0e35\", \"\\u0e14\\u0e35\", \"\\u0e14\\u0e35\", \"\\u0e14\\u0e35\", \"\\u0e14\\u0e35\", \"\\u0e14\\u0e35\\u0e21\\u0e32\\u0e01\", \"\\u0e14\\u0e35\\u0e21\\u0e32\\u0e01\", \"\\u0e14\\u0e35\\u0e21\\u0e32\\u0e01\", \"\\u0e14\\u0e35\\u0e21\\u0e32\\u0e01\", \"\\u0e14\\u0e36\\u0e01\", \"\\u0e14\\u0e39\", \"\\u0e14\\u0e39\", \"\\u0e15\", \"\\u0e15\\u0e01\", \"\\u0e15\\u0e15\\u0e35\\u0e49\", \"\\u0e15\\u0e23\\u0e07\\u0e19\\u0e31\\u0e49\\u0e19\", \"\\u0e15\\u0e2d\\u0e19\", \"\\u0e15\\u0e2d\\u0e19\", \"\\u0e15\\u0e2d\\u0e19\\u0e17\\u0e35\\u0e48\", \"\\u0e15\\u0e2d\\u0e19\\u0e19\\u0e35\\u0e49\", \"\\u0e15\\u0e30\", \"\\u0e15\\u0e31\\u0e01\", \"\\u0e15\\u0e31\\u0e01\", \"\\u0e15\\u0e31\\u0e01\", \"\\u0e15\\u0e31\\u0e14\\u0e01\\u0e33\\u0e25\\u0e31\\u0e07\", \"\\u0e15\\u0e31\\u0e14\\u0e2a\\u0e34\\u0e19\\u0e43\\u0e08\", \"\\u0e15\\u0e31\\u0e27\", \"\\u0e15\\u0e31\\u0e27\", \"\\u0e15\\u0e32\\u0e21\\u0e19\\u0e49\\u0e33\", \"\\u0e15\\u0e33\", \"\\u0e15\\u0e48\\u0e32\\u0e07 \\u0e46\", \"\\u0e15\\u0e49\\u0e21\\u0e22\\u0e33\", \"\\u0e16\\u0e49\\u0e27\\u0e22\", \"\\u0e17\\u0e2d\\u0e14\", \"\\u0e17\\u0e2d\\u0e14\", \"\\u0e17\\u0e2d\\u0e14\", \"\\u0e17\\u0e2d\\u0e19\", \"\\u0e17\\u0e30\\u0e22\\u0e2d\\u0e22\", \"\\u0e17\\u0e31\\u0e48\\u0e27\\u0e44\\u0e1b\", \"\\u0e17\\u0e32\\u0e19\", \"\\u0e17\\u0e32\\u0e19\", \"\\u0e17\\u0e32\\u0e19\", \"\\u0e17\\u0e32\\u0e19\", \"\\u0e17\\u0e32\\u0e19\", \"\\u0e17\\u0e32\\u0e19\\u0e2d\\u0e32\\u0e2b\\u0e32\\u0e23\", \"\\u0e17\\u0e33\\u0e07\\u0e32\\u0e19\", \"\\u0e17\\u0e35\\u0e48\\u0e08\\u0e30\", \"\\u0e17\\u0e35\\u0e48\\u0e19\\u0e31\\u0e48\\u0e07\", \"\\u0e17\\u0e35\\u0e48\\u0e19\\u0e31\\u0e48\\u0e07\", \"\\u0e18\\u0e23\\u0e23\\u0e21\\u0e14\\u0e32\", \"\\u0e18\\u0e23\\u0e23\\u0e21\\u0e14\\u0e32\", \"\\u0e18\\u0e23\\u0e23\\u0e21\\u0e14\\u0e32\", \"\\u0e19\\u0e1e\", \"\\u0e19\\u0e31\\u0e14\", \"\\u0e19\\u0e31\\u0e48\\u0e07\", \"\\u0e19\\u0e31\\u0e48\\u0e07\", \"\\u0e19\\u0e32\\u0e17\\u0e35\", \"\\u0e19\\u0e32\\u0e17\\u0e35\", \"\\u0e19\\u0e34\", \"\\u0e19\\u0e34\\u0e14\\u0e19\\u0e36\\u0e07\", \"\\u0e19\\u0e36\\u0e01\\u0e16\\u0e36\\u0e07\", \"\\u0e19\\u0e36\\u0e01\\u0e16\\u0e36\\u0e07\", \"\\u0e19\\u0e36\\u0e07\", \"\\u0e19\\u0e38\\u0e48\\u0e21\", \"\\u0e19\\u0e38\\u0e48\\u0e21\", \"\\u0e19\\u0e38\\u0e48\\u0e21\", \"\\u0e19\\u0e48\\u0e32\\u0e23\\u0e31\\u0e01\", \"\\u0e19\\u0e49\\u0e30\", \"\\u0e19\\u0e49\\u0e33\", \"\\u0e19\\u0e49\\u0e33\", \"\\u0e19\\u0e49\\u0e33\", \"\\u0e19\\u0e49\\u0e33\", \"\\u0e19\\u0e49\\u0e33\", \"\\u0e19\\u0e49\\u0e33\", \"\\u0e19\\u0e49\\u0e33\\u0e08\\u0e34\\u0e49\\u0e21\", \"\\u0e19\\u0e49\\u0e33\\u0e08\\u0e34\\u0e49\\u0e21\", \"\\u0e19\\u0e49\\u0e33\\u0e08\\u0e34\\u0e49\\u0e21\", \"\\u0e19\\u0e49\\u0e33\\u0e08\\u0e34\\u0e49\\u0e21\", \"\\u0e19\\u0e4d\\u0e49\\u0e32\", \"\\u0e1a\\u0e23\\u0e34\\u0e01\\u0e32\\u0e23\", \"\\u0e1a\\u0e23\\u0e34\\u0e01\\u0e32\\u0e23\", \"\\u0e1a\\u0e23\\u0e34\\u0e01\\u0e32\\u0e23\", \"\\u0e1a\\u0e23\\u0e34\\u0e01\\u0e32\\u0e23\", \"\\u0e1a\\u0e31\\u0e15\\u0e23\\u0e40\\u0e04\\u0e23\\u0e14\\u0e34\\u0e15\", \"\\u0e1a\\u0e32\\u0e07\\u0e2a\\u0e48\\u0e27\\u0e19\", \"\\u0e1a\\u0e32\\u0e17\", \"\\u0e1a\\u0e32\\u0e17\", \"\\u0e1a\\u0e32\\u0e17\", \"\\u0e1a\\u0e32\\u0e17\", \"\\u0e1a\\u0e32\\u0e17\", \"\\u0e1a\\u0e38\", \"\\u0e1a\\u0e38\", \"\\u0e1a\\u0e38\\u0e1f\\u0e40\\u0e1f\\u0e15\\u0e4c\", \"\\u0e1a\\u0e38\\u0e1f\\u0e40\\u0e1f\\u0e48\\u0e15\\u0e4c\", \"\\u0e1a\\u0e38\\u0e1f\\u0e40\\u0e1f\\u0e48\\u0e15\\u0e4c\", \"\\u0e1a\\u0e38\\u0e1f\\u0e40\\u0e1f\\u0e48\\u0e15\\u0e4c\", \"\\u0e1a\\u0e39\", \"\\u0e1a\\u0e4a\\u0e27\\u0e22\", \"\\u0e1b\\u0e23\\u0e30\\u0e17\\u0e31\\u0e1a\\u0e43\\u0e08\", \"\\u0e1b\\u0e25\\u0e32\", \"\\u0e1b\\u0e2d\\u0e01\\u0e40\\u0e1b\\u0e25\\u0e37\\u0e2d\\u0e01\", \"\\u0e1b\\u0e38\", \"\\u0e1b\\u0e38\\u0e23\\u0e30\", \"\\u0e1b\\u0e38\\u0e23\\u0e30\", \"\\u0e1b\\u0e38\\u0e23\\u0e30\", \"\\u0e1c\\u0e31\\u0e01\", \"\\u0e1c\\u0e31\\u0e01\", \"\\u0e1c\\u0e31\\u0e01\", \"\\u0e1c\\u0e31\\u0e01\", \"\\u0e1c\\u0e34\\u0e14\\u0e2b\\u0e27\\u0e31\\u0e07\", \"\\u0e1c\\u0e34\\u0e14\\u0e2b\\u0e27\\u0e31\\u0e07\", \"\\u0e1e\\u0e19\\u0e31\\u0e01\\u0e07\\u0e32\\u0e19\", \"\\u0e1e\\u0e19\\u0e31\\u0e01\\u0e07\\u0e32\\u0e19\", \"\\u0e1e\\u0e19\\u0e31\\u0e01\\u0e07\\u0e32\\u0e19\", \"\\u0e1e\\u0e19\\u0e31\\u0e01\\u0e07\\u0e32\\u0e19\", \"\\u0e1e\\u0e19\\u0e31\\u0e01\\u0e07\\u0e32\\u0e19\\u0e1a\\u0e23\\u0e34\\u0e01\\u0e32\\u0e23\", \"\\u0e1e\\u0e2d\\u0e19\", \"\\u0e1f\\u0e39\\u0e49\\u0e14\", \"\\u0e21\", \"\\u0e21\", \"\\u0e21\", \"\\u0e21\\u0e2d\\u0e25\\u0e25\\u0e4c\", \"\\u0e21\\u0e2d\\u0e25\\u0e25\\u0e4c\", \"\\u0e21\\u0e30\\u0e19\\u0e32\\u0e27\", \"\\u0e21\\u0e38\", \"\\u0e22\\u0e37\\u0e19\", \"\\u0e22\\u0e38\", \"\\u0e23\\u0e2a\", \"\\u0e23\\u0e2a\", \"\\u0e23\\u0e2a\", \"\\u0e23\\u0e2a\\u0e0a\\u0e32\\u0e15\\u0e34\", \"\\u0e23\\u0e2a\\u0e0a\\u0e32\\u0e15\\u0e34\", \"\\u0e23\\u0e2a\\u0e0a\\u0e32\\u0e15\\u0e34\", \"\\u0e23\\u0e2a\\u0e0a\\u0e32\\u0e15\\u0e34\", \"\\u0e23\\u0e2a\\u0e0a\\u0e32\\u0e15\\u0e34\", \"\\u0e23\\u0e2d\", \"\\u0e23\\u0e2d\", \"\\u0e23\\u0e2d\", \"\\u0e23\\u0e2d\\u0e1a\", \"\\u0e23\\u0e31\\u0e1a\\u0e1b\\u0e23\\u0e30\\u0e01\\u0e31\\u0e19\", \"\\u0e23\\u0e32\\u0e04\\u0e32\", \"\\u0e23\\u0e32\\u0e04\\u0e32\", \"\\u0e23\\u0e32\\u0e04\\u0e32\", \"\\u0e23\\u0e32\\u0e04\\u0e32\", \"\\u0e23\\u0e32\\u0e04\\u0e32\", \"\\u0e23\\u0e32\\u0e04\\u0e32\", \"\\u0e23\\u0e35\\u0e48\", \"\\u0e23\\u0e35\\u0e48\", \"\\u0e23\\u0e49\\u0e2d\\u0e19\", \"\\u0e25\", \"\\u0e25\\u0e07\\u0e40\\u0e2d\\u0e22\", \"\\u0e25\\u0e2d\\u0e07\", \"\\u0e25\\u0e2d\\u0e07\", \"\\u0e25\\u0e2d\\u0e07\", \"\\u0e25\\u0e2d\\u0e15\\u0e40\\u0e15\\u0e2d\\u0e23\\u0e35\\u0e48\", \"\\u0e25\\u0e32\\u0e22\\u0e15\\u0e32\", \"\\u0e25\\u0e34\\u0e49\\u0e19\", \"\\u0e25\\u0e35\", \"\\u0e25\\u0e38\\u0e22\", \"\\u0e25\\u0e39\\u0e01\\u0e0a\\u0e34\\u0e49\\u0e19\", \"\\u0e25\\u0e39\\u0e01\\u0e0a\\u0e34\\u0e49\\u0e19\", \"\\u0e27\\u0e01\", \"\\u0e27\\u0e27\\u0e27\", \"\\u0e27\\u0e31\\u0e19\\u0e01\\u0e48\\u0e2d\\u0e19\", \"\\u0e27\\u0e32\\u0e19\\u0e34\\u0e25\\u0e32\", \"\\u0e2a\", \"\\u0e2a\\u0e14\", \"\\u0e2a\\u0e14\", \"\\u0e2a\\u0e14\", \"\\u0e2a\\u0e15\\u0e2d\", \"\\u0e2a\\u0e15\\u0e2d\", \"\\u0e2a\\u0e1a\\u0e32\\u0e22\\u0e14\\u0e35\", \"\\u0e2a\\u0e21\\u0e32\\u0e17\\u0e32\\u0e19\", \"\\u0e2a\\u0e21\\u0e43\\u0e08\", \"\\u0e2a\\u0e31\\u0e48\\u0e07\", \"\\u0e2a\\u0e31\\u0e48\\u0e07\", \"\\u0e2a\\u0e31\\u0e48\\u0e07\", \"\\u0e2a\\u0e31\\u0e48\\u0e07\", \"\\u0e2a\\u0e32\\u0e02\\u0e32\", \"\\u0e2a\\u0e32\\u0e02\\u0e32\", \"\\u0e2a\\u0e32\\u0e02\\u0e32\", \"\\u0e2a\\u0e32\\u0e02\\u0e32\", \"\\u0e2a\\u0e32\\u0e21\\u0e23\\u0e2a\", \"\\u0e2a\\u0e32\\u0e22\\u0e1e\\u0e32\\u0e19\", \"\\u0e2a\\u0e32\\u0e22\\u0e1e\\u0e32\\u0e19\", \"\\u0e2a\\u0e33\\u0e2b\\u0e23\\u0e31\\u0e1a\", \"\\u0e2a\\u0e38\\u0e01\\u0e35\\u0e49\", \"\\u0e2a\\u0e38\\u0e01\\u0e35\\u0e49\\u0e22\\u0e32\\u0e01\\u0e35\\u0e49\", \"\\u0e2a\\u0e38\\u0e14\\u0e17\\u0e49\\u0e32\\u0e22\", \"\\u0e2a\\u0e39\\u0e49\", \"\\u0e2a\\u0e44\\u0e25\\u0e14\\u0e4c\", \"\\u0e2a\\u0e44\\u0e25\\u0e14\\u0e4c\", \"\\u0e2a\\u0e48\\u0e27\\u0e19\\u0e15\\u0e31\\u0e27\", \"\\u0e2a\\u0e48\\u0e27\\u0e19\\u0e15\\u0e31\\u0e27\", \"\\u0e2b\", \"\\u0e2b\\u0e19\\u0e49\\u0e32\", \"\\u0e2b\\u0e19\\u0e49\\u0e32\", \"\\u0e2b\\u0e19\\u0e49\\u0e32\", \"\\u0e2b\\u0e21\\u0e39\", \"\\u0e2b\\u0e21\\u0e39\", \"\\u0e2b\\u0e21\\u0e39\\u0e48\\u0e04\\u0e13\\u0e30\", \"\\u0e2b\\u0e21\\u0e49\\u0e2d\", \"\\u0e2b\\u0e21\\u0e49\\u0e2d\", \"\\u0e2b\\u0e22\\u0e34\\u0e1a\", \"\\u0e2b\\u0e22\\u0e34\\u0e1a\", \"\\u0e2b\\u0e2d\", \"\\u0e2b\\u0e2d\", \"\\u0e2b\\u0e2d\\u0e21\", \"\\u0e2b\\u0e32\", \"\\u0e2b\\u0e34\\u0e27\", \"\\u0e2d\\u0e22\\u0e38\\u0e48\", \"\\u0e2d\\u0e22\\u0e48\\u0e32\", \"\\u0e2d\\u0e22\\u0e48\\u0e32\", \"\\u0e2d\\u0e23\\u0e48\\u0e2d\\u0e22\", \"\\u0e2d\\u0e23\\u0e48\\u0e2d\\u0e22\", \"\\u0e2d\\u0e23\\u0e48\\u0e2d\\u0e22\", \"\\u0e2d\\u0e23\\u0e48\\u0e2d\\u0e22\", \"\\u0e2d\\u0e23\\u0e48\\u0e2d\\u0e22\", \"\\u0e2d\\u0e23\\u0e48\\u0e2d\\u0e22\", \"\\u0e2d\\u0e2d\\u0e2a\\u0e40\\u0e15\\u0e23\\u0e40\\u0e25\\u0e35\\u0e22\", \"\\u0e2d\\u0e31\\u0e1e\\u0e40\\u0e14\\u0e17\", \"\\u0e2d\\u0e32\\u0e2b\\u0e32\\u0e23\", \"\\u0e2d\\u0e32\\u0e2b\\u0e32\\u0e23\", \"\\u0e2d\\u0e32\\u0e2b\\u0e32\\u0e23\", \"\\u0e2d\\u0e32\\u0e2b\\u0e32\\u0e23\", \"\\u0e2d\\u0e32\\u0e2b\\u0e32\\u0e23\", \"\\u0e2d\\u0e32\\u0e2b\\u0e32\\u0e23\\u0e2a\\u0e14\", \"\\u0e2d\\u0e32\\u0e2b\\u0e32\\u0e23\\u0e40\\u0e2a\\u0e23\\u0e34\\u0e21\", \"\\u0e2d\\u0e35\\u0e01\\u0e04\\u0e23\\u0e31\\u0e49\\u0e07\", \"\\u0e2e\\u0e31\\u0e19\", \"\\u0e40\\u0e01\\u0e34\\u0e19\\u0e44\\u0e1b\", \"\\u0e40\\u0e02\\u0e49\\u0e32\\u0e01\\u0e31\\u0e19\", \"\\u0e40\\u0e04\\u0e23\\u0e37\\u0e48\\u0e2d\\u0e07\\u0e14\\u0e37\\u0e48\\u0e21\", \"\\u0e40\\u0e0a\\u0e47\\u0e04\\u0e1a\\u0e34\\u0e25\", \"\\u0e40\\u0e14\\u0e2d\\u0e30\", \"\\u0e40\\u0e14\\u0e2d\\u0e30\", \"\\u0e40\\u0e14\\u0e2d\\u0e30\", \"\\u0e40\\u0e14\\u0e34\\u0e19\", \"\\u0e40\\u0e14\\u0e34\\u0e19\", \"\\u0e40\\u0e14\\u0e47\\u0e01\", \"\\u0e40\\u0e14\\u0e49\\u0e07\", \"\\u0e40\\u0e17\", \"\\u0e40\\u0e17\", \"\\u0e40\\u0e17\", \"\\u0e40\\u0e17\\u0e35\\u0e22\\u0e1a\", \"\\u0e40\\u0e19\\u0e37\\u0e49\\u0e2d\", \"\\u0e40\\u0e19\\u0e37\\u0e49\\u0e2d\", \"\\u0e40\\u0e19\\u0e37\\u0e49\\u0e2d\", \"\\u0e40\\u0e19\\u0e37\\u0e49\\u0e2d\", \"\\u0e40\\u0e19\\u0e37\\u0e49\\u0e2d\", \"\\u0e40\\u0e19\\u0e37\\u0e49\\u0e2d\", \"\\u0e40\\u0e19\\u0e37\\u0e49\\u0e2d\\u0e27\\u0e31\\u0e27\", \"\\u0e40\\u0e19\\u0e37\\u0e49\\u0e2d\\u0e27\\u0e31\\u0e27\", \"\\u0e40\\u0e19\\u0e37\\u0e49\\u0e2d\\u0e2a\\u0e31\\u0e15\\u0e27\\u0e4c\", \"\\u0e40\\u0e19\\u0e37\\u0e49\\u0e2d\\u0e2b\\u0e21\\u0e39\", \"\\u0e40\\u0e19\\u0e37\\u0e49\\u0e2d\\u0e2b\\u0e21\\u0e39\", \"\\u0e40\\u0e1a\\u0e2d\", \"\\u0e40\\u0e1a\\u0e2d\\u0e23\\u0e4c\", \"\\u0e40\\u0e1b\\u0e47\\u0e14\", \"\\u0e40\\u0e1b\\u0e47\\u0e14\", \"\\u0e40\\u0e1b\\u0e47\\u0e19\\u0e1b\\u0e01\\u0e15\\u0e34\", \"\\u0e40\\u0e1b\\u0e47\\u0e19\\u0e21\\u0e32\", \"\\u0e40\\u0e1b\\u0e47\\u0e19\\u0e2b\\u0e25\\u0e31\\u0e01\", \"\\u0e40\\u0e1b\\u0e47\\u0e19\\u0e2b\\u0e25\\u0e31\\u0e01\", \"\\u0e40\\u0e1f\\u0e23\\u0e19\\u0e44\\u0e0a\\u0e2a\\u0e4c\", \"\\u0e40\\u0e21\\u0e19\\u0e39\", \"\\u0e40\\u0e21\\u0e19\\u0e39\", \"\\u0e40\\u0e21\\u0e19\\u0e39\", \"\\u0e40\\u0e22\\u0e47\\u0e19\", \"\\u0e40\\u0e25\\u0e34\\u0e01\", \"\\u0e40\\u0e25\\u0e35\\u0e48\\u0e22\\u0e19\", \"\\u0e40\\u0e25\\u0e37\\u0e2d\\u0e01\", \"\\u0e40\\u0e25\\u0e37\\u0e2d\\u0e01\", \"\\u0e40\\u0e25\\u0e37\\u0e2d\\u0e01\", \"\\u0e40\\u0e25\\u0e37\\u0e2d\\u0e01\", \"\\u0e40\\u0e25\\u0e37\\u0e2d\\u0e01\", \"\\u0e40\\u0e25\\u0e48\\u0e19\", \"\\u0e40\\u0e27\\u0e25\\u0e32\", \"\\u0e40\\u0e27\\u0e25\\u0e32\", \"\\u0e40\\u0e2a\\u0e34\\u0e23\\u0e4c\\u0e1f\", \"\\u0e40\\u0e2a\\u0e34\\u0e23\\u0e4c\\u0e1f\", \"\\u0e40\\u0e2a\\u0e49\\u0e19\", \"\\u0e40\\u0e2b\\u0e21\\u0e37\\u0e2d\\u0e19\\u0e01\\u0e31\\u0e1a\", \"\\u0e40\\u0e2b\\u0e27\\u0e35\\u0e48\\u0e22\\u0e07\", \"\\u0e40\\u0e2b\\u0e47\\u0e14\", \"\\u0e41\\u0e01\\u0e07\\u0e04\\u0e4c\", \"\\u0e41\\u0e04\\u0e1a\", \"\\u0e41\\u0e14\\u0e07\", \"\\u0e41\\u0e15\\u0e01\", \"\\u0e41\\u0e15\\u0e32\", \"\\u0e41\\u0e19\\u0e30\\u0e19\\u0e33\", \"\\u0e41\\u0e19\\u0e30\\u0e19\\u0e33\", \"\\u0e41\\u0e1a\\u0e48\\u0e07\", \"\\u0e41\\u0e1e\\u0e07\", \"\\u0e41\\u0e22\\u0e49\", \"\\u0e41\\u0e25\", \"\\u0e41\\u0e25\\u0e49\\u0e27\\u0e01\\u0e47\", \"\\u0e42\\u0e01\", \"\\u0e42\\u0e04\\u0e27\\u0e34\\u0e14\", \"\\u0e42\\u0e0a\", \"\\u0e42\\u0e14\\u0e19\", \"\\u0e42\\u0e14\\u0e22\\u0e23\\u0e27\\u0e21\", \"\\u0e42\\u0e14\\u0e22\\u0e23\\u0e27\\u0e21\", \"\\u0e42\\u0e15\\u0e4a\\u0e30\", \"\\u0e42\\u0e15\\u0e4a\\u0e30\", \"\\u0e42\\u0e1b\\u0e23\\u0e42\\u0e21\\u0e0a\\u0e31\\u0e48\\u0e19\", \"\\u0e42\\u0e1b\\u0e23\\u0e42\\u0e21\\u0e0a\\u0e31\\u0e48\\u0e19\", \"\\u0e42\\u0e21\", \"\\u0e42\\u0e21\", \"\\u0e42\\u0e21\", \"\\u0e42\\u0e2b\\u0e14\", \"\\u0e43\\u0e08\\u0e14\\u0e35\", \"\\u0e43\\u0e0a\\u0e49\\u0e44\\u0e14\\u0e49\", \"\\u0e44\\u0e01\\u0e48\", \"\\u0e44\\u0e01\\u0e48\", \"\\u0e44\\u0e01\\u0e48\", \"\\u0e44\\u0e02\\u0e48\\u0e44\\u0e01\\u0e48\", \"\\u0e44\\u0e14\\u0e1f\\u0e39\\u0e01\\u0e38\", \"\\u0e44\\u0e14\\u0e49\\u0e01\\u0e25\\u0e34\\u0e48\\u0e19\", \"\\u0e44\\u0e14\\u0e49\\u0e40\\u0e27\\u0e25\\u0e32\", \"\\u0e44\\u0e1c\\u0e48\", \"\\u0e44\\u0e21\\u0e49\", \"\\u0e44\\u0e25\\u0e19\\u0e4c\", \"\\u0e44\\u0e25\\u0e19\\u0e4c\", \"\\u0e44\\u0e27\", \"\\u0e44\\u0e2b\\u0e27\", \"\\u0e44\\u0e2d\\u0e15\\u0e34\\u0e21\", \"\\u0e44\\u0e2d\\u0e15\\u0e34\\u0e21\", \"\\u0e44\\u0e2d\\u0e15\\u0e34\\u0e21\", \"\\u0e44\\u0e2d\\u0e15\\u0e34\\u0e21\", \"\\u0e44\\u0e2d\\u0e28\\u0e04\\u0e23\\u0e35\\u0e21\", \"\\u200b\"]}, \"R\": 30, \"lambda.step\": 0.01, \"plot.opts\": {\"xlab\": \"PC1\", \"ylab\": \"PC2\"}, \"topic.order\": [4, 1, 5, 2, 3, 6, 7]};\n",
       "\n",
       "function LDAvis_load_lib(url, callback){\n",
       "  var s = document.createElement('script');\n",
       "  s.src = url;\n",
       "  s.async = true;\n",
       "  s.onreadystatechange = s.onload = callback;\n",
       "  s.onerror = function(){console.warn(\"failed to load library \" + url);};\n",
       "  document.getElementsByTagName(\"head\")[0].appendChild(s);\n",
       "}\n",
       "\n",
       "if(typeof(LDAvis) !== \"undefined\"){\n",
       "   // already loaded: just create the visualization\n",
       "   !function(LDAvis){\n",
       "       new LDAvis(\"#\" + \"ldavis_el1632820012670933921747612057\", ldavis_el1632820012670933921747612057_data);\n",
       "   }(LDAvis);\n",
       "}else if(typeof define === \"function\" && define.amd){\n",
       "   // require.js is available: use it to load d3/LDAvis\n",
       "   require.config({paths: {d3: \"https://cdnjs.cloudflare.com/ajax/libs/d3/3.5.5/d3.min\"}});\n",
       "   require([\"d3\"], function(d3){\n",
       "      window.d3 = d3;\n",
       "      LDAvis_load_lib(\"https://cdn.rawgit.com/bmabey/pyLDAvis/files/ldavis.v1.0.0.js\", function(){\n",
       "        new LDAvis(\"#\" + \"ldavis_el1632820012670933921747612057\", ldavis_el1632820012670933921747612057_data);\n",
       "      });\n",
       "    });\n",
       "}else{\n",
       "    // require.js not available: dynamically load d3 & LDAvis\n",
       "    LDAvis_load_lib(\"https://cdnjs.cloudflare.com/ajax/libs/d3/3.5.5/d3.min.js\", function(){\n",
       "         LDAvis_load_lib(\"https://cdn.rawgit.com/bmabey/pyLDAvis/files/ldavis.v1.0.0.js\", function(){\n",
       "                 new LDAvis(\"#\" + \"ldavis_el1632820012670933921747612057\", ldavis_el1632820012670933921747612057_data);\n",
       "            })\n",
       "         });\n",
       "}\n",
       "</script>"
      ],
      "text/plain": [
       "PreparedData(topic_coordinates=              x         y  topics  cluster       Freq\n",
       "topic                                                \n",
       "3     -0.107806 -0.110520       1        1  31.852785\n",
       "0      0.065963 -0.052699       2        1  24.625054\n",
       "4      0.140050  0.003521       3        1  15.736820\n",
       "1     -0.072410  0.128967       4        1  12.468607\n",
       "2      0.040997  0.020385       5        1   6.487632\n",
       "5     -0.030770 -0.010669       6        1   6.277223\n",
       "6     -0.036023  0.021016       7        1   2.551880, topic_info=        Term       Freq      Total Category  logprob  loglift\n",
       "48         ​   8.000000   8.000000  Default  30.0000  30.0000\n",
       "33     อาหาร  12.000000  12.000000  Default  29.0000  29.0000\n",
       "91         :  10.000000  10.000000  Default  28.0000  28.0000\n",
       "337        -  13.000000  13.000000  Default  27.0000  27.0000\n",
       "117      ทาน  18.000000  18.000000  Default  26.0000  26.0000\n",
       "..       ...        ...        ...      ...      ...      ...\n",
       "431  วันก่อน   0.041820   1.122154   Topic7  -6.7638   0.3787\n",
       "273     กุ้ง   0.333941   9.899593   Topic7  -4.6862   0.2791\n",
       "117      ทาน   0.334312  18.026361   Topic7  -4.6850  -0.3192\n",
       "26      ราคา   0.334171  13.505151   Topic7  -4.6855  -0.0308\n",
       "20       บาท   0.334102  11.269762   Topic7  -4.6857   0.1499\n",
       "\n",
       "[403 rows x 6 columns], token_table=      Topic      Freq     Term\n",
       "term                          \n",
       "86        2  0.367407         \n",
       "86        3  0.489877         \n",
       "247       5  0.884505     !!!!\n",
       "213       1  0.964660        +\n",
       "87        3  0.745909       ++\n",
       "...     ...       ...      ...\n",
       "47        2  0.299763    ไอติม\n",
       "47        3  0.299763    ไอติม\n",
       "47        4  0.149882    ไอติม\n",
       "270       5  0.884504  ไอศครีม\n",
       "48        4  0.926541        ​\n",
       "\n",
       "[459 rows x 3 columns], R=30, lambda_step=0.01, plot_opts={'xlab': 'PC1', 'ylab': 'PC2'}, topic_order=[4, 1, 5, 2, 3, 6, 7])"
      ]
     },
     "execution_count": 12,
     "metadata": {},
     "output_type": "execute_result"
    }
   ],
   "source": [
    "pyLDAvis.gensim.prepare(model, gensim_corpus, dictionary)"
   ]
  },
  {
   "cell_type": "code",
   "execution_count": 13,
   "metadata": {
    "colab": {
     "base_uri": "https://localhost:8080/"
    },
    "executionInfo": {
     "elapsed": 2827,
     "status": "ok",
     "timestamp": 1605438652247,
     "user": {
      "displayName": "Thanachart Ritbumroong",
      "photoUrl": "",
      "userId": "18414212507793256437"
     },
     "user_tz": -420
    },
    "id": "KwvMjfSrrHU0",
    "outputId": "d0dfd026-3a06-4ce1-d7da-cec99ba4d7bc"
   },
   "outputs": [
    {
     "data": {
      "text/plain": [
       "[('-', 0.027817456),\n",
       " ('กิน', 0.021698708),\n",
       " ('คน', 0.018491646),\n",
       " ('ดี', 0.01679346),\n",
       " ('สด', 0.015136159),\n",
       " ('กุ้ง', 0.013118583),\n",
       " ('สาขา', 0.011748913),\n",
       " ('อร่อย', 0.011472348),\n",
       " ('ของหวาน', 0.0112588415),\n",
       " ('ราคา', 0.010786431)]"
      ]
     },
     "execution_count": 13,
     "metadata": {},
     "output_type": "execute_result"
    }
   ],
   "source": [
    "model.show_topic(3)"
   ]
  },
  {
   "cell_type": "code",
   "execution_count": 14,
   "metadata": {
    "executionInfo": {
     "elapsed": 2823,
     "status": "ok",
     "timestamp": 1605438652248,
     "user": {
      "displayName": "Thanachart Ritbumroong",
      "photoUrl": "",
      "userId": "18414212507793256437"
     },
     "user_tz": -420
    },
    "id": "BSPNeUAjujS-"
   },
   "outputs": [],
   "source": [
    "df['topics'] = df['Review_tokenized'].apply(lambda x: model.get_document_topics(dictionary.doc2bow(x.split(',')))[0][0])\n",
    "df['score'] = df['Review_tokenized'].apply(lambda x: model.get_document_topics(dictionary.doc2bow(x.split(',')))[0][1])"
   ]
  },
  {
   "cell_type": "code",
   "execution_count": 15,
   "metadata": {
    "colab": {
     "base_uri": "https://localhost:8080/",
     "height": 669
    },
    "executionInfo": {
     "elapsed": 2819,
     "status": "ok",
     "timestamp": 1605438652248,
     "user": {
      "displayName": "Thanachart Ritbumroong",
      "photoUrl": "",
      "userId": "18414212507793256437"
     },
     "user_tz": -420
    },
    "id": "gqZjJuheum3D",
    "outputId": "0f707ce2-f491-40c2-85c6-1ae231fb5a67"
   },
   "outputs": [
    {
     "data": {
      "text/html": [
       "<div>\n",
       "<style scoped>\n",
       "    .dataframe tbody tr th:only-of-type {\n",
       "        vertical-align: middle;\n",
       "    }\n",
       "\n",
       "    .dataframe tbody tr th {\n",
       "        vertical-align: top;\n",
       "    }\n",
       "\n",
       "    .dataframe thead th {\n",
       "        text-align: right;\n",
       "    }\n",
       "</style>\n",
       "<table border=\"1\" class=\"dataframe\">\n",
       "  <thead>\n",
       "    <tr style=\"text-align: right;\">\n",
       "      <th></th>\n",
       "      <th>Restaurant</th>\n",
       "      <th>Review</th>\n",
       "      <th>topics</th>\n",
       "    </tr>\n",
       "  </thead>\n",
       "  <tbody>\n",
       "    <tr>\n",
       "      <th>0</th>\n",
       "      <td>Mo-Mo-Paradise (โม โม พาราไดซ์) เดอะมอลล์ บางกะปิ</td>\n",
       "      <td>ที่สำคัญของร้านนี้คือบริการดีมากพนักงานน่ารักส...</td>\n",
       "      <td>1</td>\n",
       "    </tr>\n",
       "    <tr>\n",
       "      <th>1</th>\n",
       "      <td>Mo-Mo-Paradise (โม โม พาราไดซ์) เดอะมอลล์ บางกะปิ</td>\n",
       "      <td>นึกถึงชาบูญี่ปุ่นยังไงก็ต้อง คิดถึงโมโม่ พาราไ...</td>\n",
       "      <td>1</td>\n",
       "    </tr>\n",
       "    <tr>\n",
       "      <th>2</th>\n",
       "      <td>Mo-Mo-Paradise (โม โม พาราไดซ์) เดอะมอลล์ บางกะปิ</td>\n",
       "      <td>มาทานช่วงนี้ สามารถนั่งโต๊ะเดียวกัน หม้อเดียวก...</td>\n",
       "      <td>3</td>\n",
       "    </tr>\n",
       "    <tr>\n",
       "      <th>3</th>\n",
       "      <td>Mo-Mo-Paradise (โม โม พาราไดซ์) เดอะมอลล์ บางกะปิ</td>\n",
       "      <td>ถ้านึกถึงชาบูที่มีเนื้อเน้นๆ ในราคาไม่โหดจนเกิ...</td>\n",
       "      <td>4</td>\n",
       "    </tr>\n",
       "    <tr>\n",
       "      <th>4</th>\n",
       "      <td>Mo-Mo-Paradise (โม โม พาราไดซ์) เดอะมอลล์ บางกะปิ</td>\n",
       "      <td>เดินมาหน้าร้านแล้วได้กลิ่นชาบูหอมมาก ๆ  ประกอบ...</td>\n",
       "      <td>2</td>\n",
       "    </tr>\n",
       "    <tr>\n",
       "      <th>5</th>\n",
       "      <td>Mo-Mo-Paradise (โม โม พาราไดซ์) เดอะมอลล์ บางกะปิ</td>\n",
       "      <td>ร้านบุฟเฟ่ ชาบูแนวญี่ปุ่น สายเนื้อหมู เนื้อวัว...</td>\n",
       "      <td>0</td>\n",
       "    </tr>\n",
       "    <tr>\n",
       "      <th>6</th>\n",
       "      <td>Mo-Mo-Paradise (โม โม พาราไดซ์) เดอะมอลล์ บางกะปิ</td>\n",
       "      <td>Number 20 : โมโม – พาราไดส์ (สาขาเดอะมอลบางกะป...</td>\n",
       "      <td>0</td>\n",
       "    </tr>\n",
       "    <tr>\n",
       "      <th>7</th>\n",
       "      <td>Mo-Mo-Paradise (โม โม พาราไดซ์) เดอะมอลล์ บางกะปิ</td>\n",
       "      <td>ร้านชาบูเฟรนไชส์รสชาติดีมากคุ้มค่าเหมาะสมกับรา...</td>\n",
       "      <td>2</td>\n",
       "    </tr>\n",
       "    <tr>\n",
       "      <th>8</th>\n",
       "      <td>Shabushi (ชาบูชิ) เดอะมอลล์บางกะปิ ชั้น G</td>\n",
       "      <td>มา านที่ขาบูชิต้องมาตอนหิว ไม่งั้นจะไม่คุ้มนะค...</td>\n",
       "      <td>6</td>\n",
       "    </tr>\n",
       "    <tr>\n",
       "      <th>9</th>\n",
       "      <td>Shabushi (ชาบูชิ) เดอะมอลล์บางกะปิ ชั้น G</td>\n",
       "      <td>ใครชอบกุ้งทอดเทมปุระ แค่กุ้งเทมปุระก็คุ้มแล้ว ...</td>\n",
       "      <td>1</td>\n",
       "    </tr>\n",
       "    <tr>\n",
       "      <th>10</th>\n",
       "      <td>Shabushi (ชาบูชิ) เดอะมอลล์บางกะปิ ชั้น G</td>\n",
       "      <td>กลับมาอัพเดทราคาชาบูชิ ตอนนี้อยู่ที่ 399 บาท n...</td>\n",
       "      <td>5</td>\n",
       "    </tr>\n",
       "    <tr>\n",
       "      <th>11</th>\n",
       "      <td>Shabushi (ชาบูชิ) เดอะมอลล์บางกะปิ ชั้น G</td>\n",
       "      <td>ห่างหายไปนานสำหรับชาบูชิ ตั้งแต่ทางร้านได้ปรับ...</td>\n",
       "      <td>3</td>\n",
       "    </tr>\n",
       "    <tr>\n",
       "      <th>12</th>\n",
       "      <td>Shabushi (ชาบูชิ) เดอะมอลล์บางกะปิ ชั้น G</td>\n",
       "      <td>เมื่อหลายวันก่อนนัดหาข้าวทานกับเดอะแกงค์ และก็...</td>\n",
       "      <td>5</td>\n",
       "    </tr>\n",
       "    <tr>\n",
       "      <th>13</th>\n",
       "      <td>Shabushi (ชาบูชิ) เดอะมอลล์บางกะปิ ชั้น G</td>\n",
       "      <td>บอกตรงๆว่าหลายครั้งที่เลือกจะกินบุฟเฟต์จะต้องอ...</td>\n",
       "      <td>3</td>\n",
       "    </tr>\n",
       "    <tr>\n",
       "      <th>14</th>\n",
       "      <td>Shabushi (ชาบูชิ) เดอะมอลล์บางกะปิ ชั้น G</td>\n",
       "      <td>สวัสดีครับวันนี้จะขอมารีวิวร้านชาบูชิ บุฟเฟขวั...</td>\n",
       "      <td>3</td>\n",
       "    </tr>\n",
       "    <tr>\n",
       "      <th>15</th>\n",
       "      <td>Shabushi (ชาบูชิ) เดอะมอลล์บางกะปิ ชั้น G</td>\n",
       "      <td>ชาบูชิ สาขาเดอะมอลล์บางกะปิ ตั้งอยู่ประตูหน้าห...</td>\n",
       "      <td>0</td>\n",
       "    </tr>\n",
       "    <tr>\n",
       "      <th>16</th>\n",
       "      <td>ข้าน้อยขอชาบู</td>\n",
       "      <td>หลังจากที่เคยลองสาขายูเนี่ยนมอลล์ไป รอบนี้มาที...</td>\n",
       "      <td>3</td>\n",
       "    </tr>\n",
       "    <tr>\n",
       "      <th>17</th>\n",
       "      <td>ข้าน้อยขอชาบู</td>\n",
       "      <td>ร้านบุฟเฟ่ต์ที่มีโปรโมชั่นหัวละ199บาท ไม่รวมน้...</td>\n",
       "      <td>0</td>\n",
       "    </tr>\n",
       "    <tr>\n",
       "      <th>18</th>\n",
       "      <td>ข้าน้อยขอชาบู</td>\n",
       "      <td>เคยรู้จักร้านนี้จากที่ union mall ไม่เคยได้ลอง...</td>\n",
       "      <td>0</td>\n",
       "    </tr>\n",
       "    <tr>\n",
       "      <th>19</th>\n",
       "      <td>ข้าน้อยขอชาบู</td>\n",
       "      <td>อร่อยมากค่ะ คุ้มค่าสมราคา บุฟเฟ่หมูผักต่างๆ รว...</td>\n",
       "      <td>3</td>\n",
       "    </tr>\n",
       "    <tr>\n",
       "      <th>20</th>\n",
       "      <td>ข้าน้อยขอชาบู</td>\n",
       "      <td>ก็ตามที่เขียนเลยครับ ว่า ถ้าจะจ่ายในราคา 199 บ...</td>\n",
       "      <td>0</td>\n",
       "    </tr>\n",
       "  </tbody>\n",
       "</table>\n",
       "</div>"
      ],
      "text/plain": [
       "                                           Restaurant  \\\n",
       "0   Mo-Mo-Paradise (โม โม พาราไดซ์) เดอะมอลล์ บางกะปิ   \n",
       "1   Mo-Mo-Paradise (โม โม พาราไดซ์) เดอะมอลล์ บางกะปิ   \n",
       "2   Mo-Mo-Paradise (โม โม พาราไดซ์) เดอะมอลล์ บางกะปิ   \n",
       "3   Mo-Mo-Paradise (โม โม พาราไดซ์) เดอะมอลล์ บางกะปิ   \n",
       "4   Mo-Mo-Paradise (โม โม พาราไดซ์) เดอะมอลล์ บางกะปิ   \n",
       "5   Mo-Mo-Paradise (โม โม พาราไดซ์) เดอะมอลล์ บางกะปิ   \n",
       "6   Mo-Mo-Paradise (โม โม พาราไดซ์) เดอะมอลล์ บางกะปิ   \n",
       "7   Mo-Mo-Paradise (โม โม พาราไดซ์) เดอะมอลล์ บางกะปิ   \n",
       "8           Shabushi (ชาบูชิ) เดอะมอลล์บางกะปิ ชั้น G   \n",
       "9           Shabushi (ชาบูชิ) เดอะมอลล์บางกะปิ ชั้น G   \n",
       "10          Shabushi (ชาบูชิ) เดอะมอลล์บางกะปิ ชั้น G   \n",
       "11          Shabushi (ชาบูชิ) เดอะมอลล์บางกะปิ ชั้น G   \n",
       "12          Shabushi (ชาบูชิ) เดอะมอลล์บางกะปิ ชั้น G   \n",
       "13          Shabushi (ชาบูชิ) เดอะมอลล์บางกะปิ ชั้น G   \n",
       "14          Shabushi (ชาบูชิ) เดอะมอลล์บางกะปิ ชั้น G   \n",
       "15          Shabushi (ชาบูชิ) เดอะมอลล์บางกะปิ ชั้น G   \n",
       "16                                      ข้าน้อยขอชาบู   \n",
       "17                                      ข้าน้อยขอชาบู   \n",
       "18                                      ข้าน้อยขอชาบู   \n",
       "19                                      ข้าน้อยขอชาบู   \n",
       "20                                      ข้าน้อยขอชาบู   \n",
       "\n",
       "                                               Review  topics  \n",
       "0   ที่สำคัญของร้านนี้คือบริการดีมากพนักงานน่ารักส...       1  \n",
       "1   นึกถึงชาบูญี่ปุ่นยังไงก็ต้อง คิดถึงโมโม่ พาราไ...       1  \n",
       "2   มาทานช่วงนี้ สามารถนั่งโต๊ะเดียวกัน หม้อเดียวก...       3  \n",
       "3   ถ้านึกถึงชาบูที่มีเนื้อเน้นๆ ในราคาไม่โหดจนเกิ...       4  \n",
       "4   เดินมาหน้าร้านแล้วได้กลิ่นชาบูหอมมาก ๆ  ประกอบ...       2  \n",
       "5   ร้านบุฟเฟ่ ชาบูแนวญี่ปุ่น สายเนื้อหมู เนื้อวัว...       0  \n",
       "6   Number 20 : โมโม – พาราไดส์ (สาขาเดอะมอลบางกะป...       0  \n",
       "7   ร้านชาบูเฟรนไชส์รสชาติดีมากคุ้มค่าเหมาะสมกับรา...       2  \n",
       "8   มา านที่ขาบูชิต้องมาตอนหิว ไม่งั้นจะไม่คุ้มนะค...       6  \n",
       "9   ใครชอบกุ้งทอดเทมปุระ แค่กุ้งเทมปุระก็คุ้มแล้ว ...       1  \n",
       "10  กลับมาอัพเดทราคาชาบูชิ ตอนนี้อยู่ที่ 399 บาท n...       5  \n",
       "11  ห่างหายไปนานสำหรับชาบูชิ ตั้งแต่ทางร้านได้ปรับ...       3  \n",
       "12  เมื่อหลายวันก่อนนัดหาข้าวทานกับเดอะแกงค์ และก็...       5  \n",
       "13  บอกตรงๆว่าหลายครั้งที่เลือกจะกินบุฟเฟต์จะต้องอ...       3  \n",
       "14  สวัสดีครับวันนี้จะขอมารีวิวร้านชาบูชิ บุฟเฟขวั...       3  \n",
       "15  ชาบูชิ สาขาเดอะมอลล์บางกะปิ ตั้งอยู่ประตูหน้าห...       0  \n",
       "16  หลังจากที่เคยลองสาขายูเนี่ยนมอลล์ไป รอบนี้มาที...       3  \n",
       "17  ร้านบุฟเฟ่ต์ที่มีโปรโมชั่นหัวละ199บาท ไม่รวมน้...       0  \n",
       "18  เคยรู้จักร้านนี้จากที่ union mall ไม่เคยได้ลอง...       0  \n",
       "19  อร่อยมากค่ะ คุ้มค่าสมราคา บุฟเฟ่หมูผักต่างๆ รว...       3  \n",
       "20  ก็ตามที่เขียนเลยครับ ว่า ถ้าจะจ่ายในราคา 199 บ...       0  "
      ]
     },
     "execution_count": 15,
     "metadata": {},
     "output_type": "execute_result"
    }
   ],
   "source": [
    "df[['Restaurant', 'Review', 'topics']]"
   ]
  },
  {
   "cell_type": "code",
   "execution_count": null,
   "metadata": {},
   "outputs": [],
   "source": []
  },
  {
   "cell_type": "code",
   "execution_count": null,
   "metadata": {},
   "outputs": [],
   "source": []
  }
 ],
 "metadata": {
  "colab": {
   "authorship_tag": "ABX9TyM4TPkTETrfkCITep4a+npi",
   "name": "Wongnai Review Analysis - Exercise.ipynb",
   "provenance": []
  },
  "kernelspec": {
   "display_name": "Python 3",
   "language": "python",
   "name": "python3"
  },
  "language_info": {
   "codemirror_mode": {
    "name": "ipython",
    "version": 3
   },
   "file_extension": ".py",
   "mimetype": "text/x-python",
   "name": "python",
   "nbconvert_exporter": "python",
   "pygments_lexer": "ipython3",
   "version": "3.8.5"
  }
 },
 "nbformat": 4,
 "nbformat_minor": 1
}
